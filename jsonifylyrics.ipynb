{
 "cells": [
  {
   "cell_type": "code",
   "execution_count": 6,
   "metadata": {},
   "outputs": [],
   "source": [
    "import json\n",
    "import pandas as pd\n",
    "import ast\n",
    "from collections import defaultdict\n"
   ]
  },
  {
   "cell_type": "code",
   "execution_count": 2,
   "metadata": {},
   "outputs": [
    {
     "data": {
      "text/html": [
       "<div>\n",
       "<style scoped>\n",
       "    .dataframe tbody tr th:only-of-type {\n",
       "        vertical-align: middle;\n",
       "    }\n",
       "\n",
       "    .dataframe tbody tr th {\n",
       "        vertical-align: top;\n",
       "    }\n",
       "\n",
       "    .dataframe thead th {\n",
       "        text-align: right;\n",
       "    }\n",
       "</style>\n",
       "<table border=\"1\" class=\"dataframe\">\n",
       "  <thead>\n",
       "    <tr style=\"text-align: right;\">\n",
       "      <th></th>\n",
       "      <th>title</th>\n",
       "      <th>genre</th>\n",
       "      <th>urlSpotify</th>\n",
       "      <th>spotifyID</th>\n",
       "      <th>lyrics</th>\n",
       "    </tr>\n",
       "  </thead>\n",
       "  <tbody>\n",
       "    <tr>\n",
       "      <th>0</th>\n",
       "      <td>It's Complicated</td>\n",
       "      <td>[\"Pop punk\"]</td>\n",
       "      <td>https://play.spotify.com/track/069deq5woglvUnW...</td>\n",
       "      <td>069deq5woglvUnWok4MqTe</td>\n",
       "      <td>Here we go again, another night of being bumpe...</td>\n",
       "    </tr>\n",
       "    <tr>\n",
       "      <th>1</th>\n",
       "      <td>All Signs Point To Lauderdale</td>\n",
       "      <td>[\"Pop punk\"]</td>\n",
       "      <td>https://play.spotify.com/track/15qf0H31MChhqKr...</td>\n",
       "      <td>15qf0H31MChhqKr2zvejla</td>\n",
       "      <td>I hate this town, it's so washed up\\nAnd all m...</td>\n",
       "    </tr>\n",
       "    <tr>\n",
       "      <th>2</th>\n",
       "      <td>Right Back At It Again</td>\n",
       "      <td>[\"Pop punk\",\"Post-hardcore\"]</td>\n",
       "      <td>https://play.spotify.com/track/0OQmxZOINqWsbKy...</td>\n",
       "      <td>0OQmxZOINqWsbKysfiPSTO</td>\n",
       "      <td>We're coming out swinging\\n♪\\nStarted out in t...</td>\n",
       "    </tr>\n",
       "    <tr>\n",
       "      <th>3</th>\n",
       "      <td>Almost Lover</td>\n",
       "      <td>[\"Adult album alternative\"]</td>\n",
       "      <td>https://play.spotify.com/track/71ehTADpxs85ULr...</td>\n",
       "      <td>71ehTADpxs85ULrZgSEKCy</td>\n",
       "      <td>Your fingertips across my skin\\nThe palm trees...</td>\n",
       "    </tr>\n",
       "    <tr>\n",
       "      <th>4</th>\n",
       "      <td>Blow Away</td>\n",
       "      <td>[\"Adult album alternative\",\"Pop music\"]</td>\n",
       "      <td>https://play.spotify.com/track/2mzgLMAfvGd7pN6...</td>\n",
       "      <td>2mzgLMAfvGd7pN6JRlNfo3</td>\n",
       "      <td>One of us is gonna be here and\\nOne of us is g...</td>\n",
       "    </tr>\n",
       "  </tbody>\n",
       "</table>\n",
       "</div>"
      ],
      "text/plain": [
       "                           title                                    genre  \\\n",
       "0               It's Complicated                             [\"Pop punk\"]   \n",
       "1  All Signs Point To Lauderdale                             [\"Pop punk\"]   \n",
       "2         Right Back At It Again             [\"Pop punk\",\"Post-hardcore\"]   \n",
       "3                   Almost Lover              [\"Adult album alternative\"]   \n",
       "4                      Blow Away  [\"Adult album alternative\",\"Pop music\"]   \n",
       "\n",
       "                                          urlSpotify               spotifyID  \\\n",
       "0  https://play.spotify.com/track/069deq5woglvUnW...  069deq5woglvUnWok4MqTe   \n",
       "1  https://play.spotify.com/track/15qf0H31MChhqKr...  15qf0H31MChhqKr2zvejla   \n",
       "2  https://play.spotify.com/track/0OQmxZOINqWsbKy...  0OQmxZOINqWsbKysfiPSTO   \n",
       "3  https://play.spotify.com/track/71ehTADpxs85ULr...  71ehTADpxs85ULrZgSEKCy   \n",
       "4  https://play.spotify.com/track/2mzgLMAfvGd7pN6...  2mzgLMAfvGd7pN6JRlNfo3   \n",
       "\n",
       "                                              lyrics  \n",
       "0  Here we go again, another night of being bumpe...  \n",
       "1  I hate this town, it's so washed up\\nAnd all m...  \n",
       "2  We're coming out swinging\\n♪\\nStarted out in t...  \n",
       "3  Your fingertips across my skin\\nThe palm trees...  \n",
       "4  One of us is gonna be here and\\nOne of us is g...  "
      ]
     },
     "execution_count": 2,
     "metadata": {},
     "output_type": "execute_result"
    }
   ],
   "source": [
    "df = pd.read_csv(\"withoutDuplicates.csv\")\n",
    "df.head()"
   ]
  },
  {
   "cell_type": "code",
   "execution_count": 15,
   "metadata": {},
   "outputs": [],
   "source": [
    "genre_to_lyr = defaultdict(list)\n",
    "\n",
    "for i, row in df.iterrows():\n",
    "    genres = ast.literal_eval(row[\"genre\"])\n",
    "    lyrics = row[\"lyrics\"].replace(\"\\n\", \" \")\n",
    "    for g in genres:\n",
    "        genre_to_lyr[g].append(lyrics)"
   ]
  },
  {
   "cell_type": "code",
   "execution_count": 18,
   "metadata": {},
   "outputs": [
    {
     "name": "stdout",
     "output_type": "stream",
     "text": [
      "569\n"
     ]
    }
   ],
   "source": [
    "print(len(list(genre_to_lyr.keys())))"
   ]
  },
  {
   "cell_type": "code",
   "execution_count": 22,
   "metadata": {},
   "outputs": [],
   "source": [
    "f = open(\"genre_to_lyrics.json\", 'w')\n",
    "json.dump(genre_to_lyr, f)\n",
    "f.close()"
   ]
  }
 ],
 "metadata": {
  "kernelspec": {
   "display_name": "Python 3.9.2 64-bit",
   "language": "python",
   "name": "python3"
  },
  "language_info": {
   "codemirror_mode": {
    "name": "ipython",
    "version": 3
   },
   "file_extension": ".py",
   "mimetype": "text/x-python",
   "name": "python",
   "nbconvert_exporter": "python",
   "pygments_lexer": "ipython3",
   "version": "3.9.2"
  },
  "orig_nbformat": 4,
  "vscode": {
   "interpreter": {
    "hash": "31f2aee4e71d21fbe5cf8b01ff0e069b9275f58929596ceb00d14d90e3e16cd6"
   }
  }
 },
 "nbformat": 4,
 "nbformat_minor": 2
}
