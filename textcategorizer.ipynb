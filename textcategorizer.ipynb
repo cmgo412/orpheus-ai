{
 "cells": [
  {
   "cell_type": "code",
   "execution_count": 1,
   "metadata": {
    "collapsed": true
   },
   "outputs": [],
   "source": [
    "import pandas as pd\n",
    "import spacy\n",
    "from spacy.tokens import DocBin\n",
    "\n",
    "from sklearn.model_selection import train_test_split\n",
    "\n",
    "RNG_SEED = 69"
   ]
  },
  {
   "cell_type": "code",
   "execution_count": 2,
   "outputs": [],
   "source": [
    "# !python -m spacy download en_core_web_sm"
   ],
   "metadata": {
    "collapsed": false
   }
  },
  {
   "cell_type": "code",
   "execution_count": 3,
   "outputs": [],
   "source": [
    "# !python -m pip install spacy-transformers"
   ],
   "metadata": {
    "collapsed": false
   }
  },
  {
   "cell_type": "code",
   "execution_count": 4,
   "outputs": [
    {
     "name": "stdout",
     "output_type": "stream",
     "text": [
      "<class 'pandas.core.frame.DataFrame'>\n",
      "RangeIndex: 16597 entries, 0 to 16596\n",
      "Data columns (total 5 columns):\n",
      " #   Column      Non-Null Count  Dtype \n",
      "---  ------      --------------  ----- \n",
      " 0   title       16597 non-null  object\n",
      " 1   genre       16597 non-null  object\n",
      " 2   urlSpotify  16597 non-null  object\n",
      " 3   spotifyID   16597 non-null  object\n",
      " 4   lyrics      16597 non-null  object\n",
      "dtypes: object(5)\n",
      "memory usage: 648.4+ KB\n"
     ]
    }
   ],
   "source": [
    "df = pd.read_csv(\"withoutDuplicates.csv\", encoding=\"utf-8\")\n",
    "df.info()"
   ],
   "metadata": {
    "collapsed": false
   }
  },
  {
   "cell_type": "code",
   "execution_count": 5,
   "outputs": [
    {
     "data": {
      "text/plain": "                           title                                    genre  \\\n0               It's Complicated                             [\"Pop punk\"]   \n1  All Signs Point To Lauderdale                             [\"Pop punk\"]   \n2         Right Back At It Again             [\"Pop punk\",\"Post-hardcore\"]   \n3                   Almost Lover              [\"Adult album alternative\"]   \n4                      Blow Away  [\"Adult album alternative\",\"Pop music\"]   \n\n                                          urlSpotify               spotifyID  \\\n0  https://play.spotify.com/track/069deq5woglvUnW...  069deq5woglvUnWok4MqTe   \n1  https://play.spotify.com/track/15qf0H31MChhqKr...  15qf0H31MChhqKr2zvejla   \n2  https://play.spotify.com/track/0OQmxZOINqWsbKy...  0OQmxZOINqWsbKysfiPSTO   \n3  https://play.spotify.com/track/71ehTADpxs85ULr...  71ehTADpxs85ULrZgSEKCy   \n4  https://play.spotify.com/track/2mzgLMAfvGd7pN6...  2mzgLMAfvGd7pN6JRlNfo3   \n\n                                              lyrics  \n0  Here we go again, another night of being bumpe...  \n1  I hate this town, it's so washed up\\nAnd all m...  \n2  We're coming out swinging\\n♪\\nStarted out in t...  \n3  Your fingertips across my skin\\nThe palm trees...  \n4  One of us is gonna be here and\\nOne of us is g...  ",
      "text/html": "<div>\n<style scoped>\n    .dataframe tbody tr th:only-of-type {\n        vertical-align: middle;\n    }\n\n    .dataframe tbody tr th {\n        vertical-align: top;\n    }\n\n    .dataframe thead th {\n        text-align: right;\n    }\n</style>\n<table border=\"1\" class=\"dataframe\">\n  <thead>\n    <tr style=\"text-align: right;\">\n      <th></th>\n      <th>title</th>\n      <th>genre</th>\n      <th>urlSpotify</th>\n      <th>spotifyID</th>\n      <th>lyrics</th>\n    </tr>\n  </thead>\n  <tbody>\n    <tr>\n      <th>0</th>\n      <td>It's Complicated</td>\n      <td>[\"Pop punk\"]</td>\n      <td>https://play.spotify.com/track/069deq5woglvUnW...</td>\n      <td>069deq5woglvUnWok4MqTe</td>\n      <td>Here we go again, another night of being bumpe...</td>\n    </tr>\n    <tr>\n      <th>1</th>\n      <td>All Signs Point To Lauderdale</td>\n      <td>[\"Pop punk\"]</td>\n      <td>https://play.spotify.com/track/15qf0H31MChhqKr...</td>\n      <td>15qf0H31MChhqKr2zvejla</td>\n      <td>I hate this town, it's so washed up\\nAnd all m...</td>\n    </tr>\n    <tr>\n      <th>2</th>\n      <td>Right Back At It Again</td>\n      <td>[\"Pop punk\",\"Post-hardcore\"]</td>\n      <td>https://play.spotify.com/track/0OQmxZOINqWsbKy...</td>\n      <td>0OQmxZOINqWsbKysfiPSTO</td>\n      <td>We're coming out swinging\\n♪\\nStarted out in t...</td>\n    </tr>\n    <tr>\n      <th>3</th>\n      <td>Almost Lover</td>\n      <td>[\"Adult album alternative\"]</td>\n      <td>https://play.spotify.com/track/71ehTADpxs85ULr...</td>\n      <td>71ehTADpxs85ULrZgSEKCy</td>\n      <td>Your fingertips across my skin\\nThe palm trees...</td>\n    </tr>\n    <tr>\n      <th>4</th>\n      <td>Blow Away</td>\n      <td>[\"Adult album alternative\",\"Pop music\"]</td>\n      <td>https://play.spotify.com/track/2mzgLMAfvGd7pN6...</td>\n      <td>2mzgLMAfvGd7pN6JRlNfo3</td>\n      <td>One of us is gonna be here and\\nOne of us is g...</td>\n    </tr>\n  </tbody>\n</table>\n</div>"
     },
     "execution_count": 5,
     "metadata": {},
     "output_type": "execute_result"
    }
   ],
   "source": [
    "df.head()"
   ],
   "metadata": {
    "collapsed": false
   }
  },
  {
   "cell_type": "code",
   "execution_count": 6,
   "outputs": [
    {
     "data": {
      "text/plain": "                           title                                    genre  \\\n0               It's Complicated                             [\"pop punk\"]   \n1  All Signs Point To Lauderdale                             [\"pop punk\"]   \n2         Right Back At It Again             [\"pop punk\",\"post-hardcore\"]   \n3                   Almost Lover              [\"adult album alternative\"]   \n4                      Blow Away  [\"adult album alternative\",\"pop music\"]   \n\n                                          urlSpotify               spotifyID  \\\n0  https://play.spotify.com/track/069deq5woglvUnW...  069deq5woglvUnWok4MqTe   \n1  https://play.spotify.com/track/15qf0H31MChhqKr...  15qf0H31MChhqKr2zvejla   \n2  https://play.spotify.com/track/0OQmxZOINqWsbKy...  0OQmxZOINqWsbKysfiPSTO   \n3  https://play.spotify.com/track/71ehTADpxs85ULr...  71ehTADpxs85ULrZgSEKCy   \n4  https://play.spotify.com/track/2mzgLMAfvGd7pN6...  2mzgLMAfvGd7pN6JRlNfo3   \n\n                                              lyrics  \n0  Here we go again, another night of being bumpe...  \n1  I hate this town, it's so washed up\\nAnd all m...  \n2  We're coming out swinging\\n♪\\nStarted out in t...  \n3  Your fingertips across my skin\\nThe palm trees...  \n4  One of us is gonna be here and\\nOne of us is g...  ",
      "text/html": "<div>\n<style scoped>\n    .dataframe tbody tr th:only-of-type {\n        vertical-align: middle;\n    }\n\n    .dataframe tbody tr th {\n        vertical-align: top;\n    }\n\n    .dataframe thead th {\n        text-align: right;\n    }\n</style>\n<table border=\"1\" class=\"dataframe\">\n  <thead>\n    <tr style=\"text-align: right;\">\n      <th></th>\n      <th>title</th>\n      <th>genre</th>\n      <th>urlSpotify</th>\n      <th>spotifyID</th>\n      <th>lyrics</th>\n    </tr>\n  </thead>\n  <tbody>\n    <tr>\n      <th>0</th>\n      <td>It's Complicated</td>\n      <td>[\"pop punk\"]</td>\n      <td>https://play.spotify.com/track/069deq5woglvUnW...</td>\n      <td>069deq5woglvUnWok4MqTe</td>\n      <td>Here we go again, another night of being bumpe...</td>\n    </tr>\n    <tr>\n      <th>1</th>\n      <td>All Signs Point To Lauderdale</td>\n      <td>[\"pop punk\"]</td>\n      <td>https://play.spotify.com/track/15qf0H31MChhqKr...</td>\n      <td>15qf0H31MChhqKr2zvejla</td>\n      <td>I hate this town, it's so washed up\\nAnd all m...</td>\n    </tr>\n    <tr>\n      <th>2</th>\n      <td>Right Back At It Again</td>\n      <td>[\"pop punk\",\"post-hardcore\"]</td>\n      <td>https://play.spotify.com/track/0OQmxZOINqWsbKy...</td>\n      <td>0OQmxZOINqWsbKysfiPSTO</td>\n      <td>We're coming out swinging\\n♪\\nStarted out in t...</td>\n    </tr>\n    <tr>\n      <th>3</th>\n      <td>Almost Lover</td>\n      <td>[\"adult album alternative\"]</td>\n      <td>https://play.spotify.com/track/71ehTADpxs85ULr...</td>\n      <td>71ehTADpxs85ULrZgSEKCy</td>\n      <td>Your fingertips across my skin\\nThe palm trees...</td>\n    </tr>\n    <tr>\n      <th>4</th>\n      <td>Blow Away</td>\n      <td>[\"adult album alternative\",\"pop music\"]</td>\n      <td>https://play.spotify.com/track/2mzgLMAfvGd7pN6...</td>\n      <td>2mzgLMAfvGd7pN6JRlNfo3</td>\n      <td>One of us is gonna be here and\\nOne of us is g...</td>\n    </tr>\n  </tbody>\n</table>\n</div>"
     },
     "execution_count": 6,
     "metadata": {},
     "output_type": "execute_result"
    }
   ],
   "source": [
    "df[\"genre\"] = df[\"genre\"].apply(lambda x: x.lower())\n",
    "df.head()"
   ],
   "metadata": {
    "collapsed": false
   }
  },
  {
   "cell_type": "code",
   "execution_count": 7,
   "outputs": [
    {
     "data": {
      "text/plain": "                           title                        genre  \\\n0               It's Complicated                          pop   \n1  All Signs Point To Lauderdale                          pop   \n2         Right Back At It Again                          pop   \n3                   Almost Lover  [\"adult album alternative\"]   \n4                      Blow Away                          pop   \n\n                                          urlSpotify               spotifyID  \\\n0  https://play.spotify.com/track/069deq5woglvUnW...  069deq5woglvUnWok4MqTe   \n1  https://play.spotify.com/track/15qf0H31MChhqKr...  15qf0H31MChhqKr2zvejla   \n2  https://play.spotify.com/track/0OQmxZOINqWsbKy...  0OQmxZOINqWsbKysfiPSTO   \n3  https://play.spotify.com/track/71ehTADpxs85ULr...  71ehTADpxs85ULrZgSEKCy   \n4  https://play.spotify.com/track/2mzgLMAfvGd7pN6...  2mzgLMAfvGd7pN6JRlNfo3   \n\n                                              lyrics  \n0  Here we go again, another night of being bumpe...  \n1  I hate this town, it's so washed up\\nAnd all m...  \n2  We're coming out swinging\\n♪\\nStarted out in t...  \n3  Your fingertips across my skin\\nThe palm trees...  \n4  One of us is gonna be here and\\nOne of us is g...  ",
      "text/html": "<div>\n<style scoped>\n    .dataframe tbody tr th:only-of-type {\n        vertical-align: middle;\n    }\n\n    .dataframe tbody tr th {\n        vertical-align: top;\n    }\n\n    .dataframe thead th {\n        text-align: right;\n    }\n</style>\n<table border=\"1\" class=\"dataframe\">\n  <thead>\n    <tr style=\"text-align: right;\">\n      <th></th>\n      <th>title</th>\n      <th>genre</th>\n      <th>urlSpotify</th>\n      <th>spotifyID</th>\n      <th>lyrics</th>\n    </tr>\n  </thead>\n  <tbody>\n    <tr>\n      <th>0</th>\n      <td>It's Complicated</td>\n      <td>pop</td>\n      <td>https://play.spotify.com/track/069deq5woglvUnW...</td>\n      <td>069deq5woglvUnWok4MqTe</td>\n      <td>Here we go again, another night of being bumpe...</td>\n    </tr>\n    <tr>\n      <th>1</th>\n      <td>All Signs Point To Lauderdale</td>\n      <td>pop</td>\n      <td>https://play.spotify.com/track/15qf0H31MChhqKr...</td>\n      <td>15qf0H31MChhqKr2zvejla</td>\n      <td>I hate this town, it's so washed up\\nAnd all m...</td>\n    </tr>\n    <tr>\n      <th>2</th>\n      <td>Right Back At It Again</td>\n      <td>pop</td>\n      <td>https://play.spotify.com/track/0OQmxZOINqWsbKy...</td>\n      <td>0OQmxZOINqWsbKysfiPSTO</td>\n      <td>We're coming out swinging\\n♪\\nStarted out in t...</td>\n    </tr>\n    <tr>\n      <th>3</th>\n      <td>Almost Lover</td>\n      <td>[\"adult album alternative\"]</td>\n      <td>https://play.spotify.com/track/71ehTADpxs85ULr...</td>\n      <td>71ehTADpxs85ULrZgSEKCy</td>\n      <td>Your fingertips across my skin\\nThe palm trees...</td>\n    </tr>\n    <tr>\n      <th>4</th>\n      <td>Blow Away</td>\n      <td>pop</td>\n      <td>https://play.spotify.com/track/2mzgLMAfvGd7pN6...</td>\n      <td>2mzgLMAfvGd7pN6JRlNfo3</td>\n      <td>One of us is gonna be here and\\nOne of us is g...</td>\n    </tr>\n  </tbody>\n</table>\n</div>"
     },
     "execution_count": 7,
     "metadata": {},
     "output_type": "execute_result"
    }
   ],
   "source": [
    "genre_mappings = {\n",
    "    \"pop\": \"pop\",\n",
    "    \"rock\": \"rock\",\n",
    "    \"country\": \"country\",\n",
    "    \"folk\": \"folk\",\n",
    "    \"jazz\": \"jazz\",\n",
    "    \"hip hop\": \"hip hop\",\n",
    "    \"rap\": \"rap\",\n",
    "    \"soul\": \"soul\",\n",
    "    \"blues\": \"blues\",\n",
    "    \"metal\": \"metal\"\n",
    "}\n",
    "\n",
    "for genre, replacement in genre_mappings.items():\n",
    "    df[\"genre\"] = df[\"genre\"].apply(lambda x: replacement if genre in x else x)\n",
    "\n",
    "df.head()"
   ],
   "metadata": {
    "collapsed": false
   }
  },
  {
   "cell_type": "code",
   "execution_count": 8,
   "outputs": [
    {
     "data": {
      "text/plain": "                           title genre  \\\n0               It's Complicated   pop   \n1  All Signs Point To Lauderdale   pop   \n2         Right Back At It Again   pop   \n4                      Blow Away   pop   \n6            Space Age Love Song   pop   \n\n                                          urlSpotify               spotifyID  \\\n0  https://play.spotify.com/track/069deq5woglvUnW...  069deq5woglvUnWok4MqTe   \n1  https://play.spotify.com/track/15qf0H31MChhqKr...  15qf0H31MChhqKr2zvejla   \n2  https://play.spotify.com/track/0OQmxZOINqWsbKy...  0OQmxZOINqWsbKysfiPSTO   \n4  https://play.spotify.com/track/2mzgLMAfvGd7pN6...  2mzgLMAfvGd7pN6JRlNfo3   \n6  https://play.spotify.com/track/4FMsajq8hKiOmcJ...  4FMsajq8hKiOmcJ7UzOhag   \n\n                                              lyrics  \n0  Here we go again, another night of being bumpe...  \n1  I hate this town, it's so washed up\\nAnd all m...  \n2  We're coming out swinging\\n♪\\nStarted out in t...  \n4  One of us is gonna be here and\\nOne of us is g...  \n6  I saw your eyes\\nAnd you made me smile\\nFor a ...  ",
      "text/html": "<div>\n<style scoped>\n    .dataframe tbody tr th:only-of-type {\n        vertical-align: middle;\n    }\n\n    .dataframe tbody tr th {\n        vertical-align: top;\n    }\n\n    .dataframe thead th {\n        text-align: right;\n    }\n</style>\n<table border=\"1\" class=\"dataframe\">\n  <thead>\n    <tr style=\"text-align: right;\">\n      <th></th>\n      <th>title</th>\n      <th>genre</th>\n      <th>urlSpotify</th>\n      <th>spotifyID</th>\n      <th>lyrics</th>\n    </tr>\n  </thead>\n  <tbody>\n    <tr>\n      <th>0</th>\n      <td>It's Complicated</td>\n      <td>pop</td>\n      <td>https://play.spotify.com/track/069deq5woglvUnW...</td>\n      <td>069deq5woglvUnWok4MqTe</td>\n      <td>Here we go again, another night of being bumpe...</td>\n    </tr>\n    <tr>\n      <th>1</th>\n      <td>All Signs Point To Lauderdale</td>\n      <td>pop</td>\n      <td>https://play.spotify.com/track/15qf0H31MChhqKr...</td>\n      <td>15qf0H31MChhqKr2zvejla</td>\n      <td>I hate this town, it's so washed up\\nAnd all m...</td>\n    </tr>\n    <tr>\n      <th>2</th>\n      <td>Right Back At It Again</td>\n      <td>pop</td>\n      <td>https://play.spotify.com/track/0OQmxZOINqWsbKy...</td>\n      <td>0OQmxZOINqWsbKysfiPSTO</td>\n      <td>We're coming out swinging\\n♪\\nStarted out in t...</td>\n    </tr>\n    <tr>\n      <th>4</th>\n      <td>Blow Away</td>\n      <td>pop</td>\n      <td>https://play.spotify.com/track/2mzgLMAfvGd7pN6...</td>\n      <td>2mzgLMAfvGd7pN6JRlNfo3</td>\n      <td>One of us is gonna be here and\\nOne of us is g...</td>\n    </tr>\n    <tr>\n      <th>6</th>\n      <td>Space Age Love Song</td>\n      <td>pop</td>\n      <td>https://play.spotify.com/track/4FMsajq8hKiOmcJ...</td>\n      <td>4FMsajq8hKiOmcJ7UzOhag</td>\n      <td>I saw your eyes\\nAnd you made me smile\\nFor a ...</td>\n    </tr>\n  </tbody>\n</table>\n</div>"
     },
     "execution_count": 8,
     "metadata": {},
     "output_type": "execute_result"
    }
   ],
   "source": [
    "df_simplified = df[df[\"genre\"].isin(genre_mappings.values())]\n",
    "df_simplified.head()"
   ],
   "metadata": {
    "collapsed": false
   }
  },
  {
   "cell_type": "code",
   "execution_count": 9,
   "outputs": [],
   "source": [
    "df_shuffled = df_simplified.sample(frac=1, random_state=RNG_SEED)\n",
    "# df_shuffled = df_simplified.sample(n=100, random_state=RNG_SEED)"
   ],
   "metadata": {
    "collapsed": false
   }
  },
  {
   "cell_type": "code",
   "execution_count": 10,
   "outputs": [],
   "source": [
    "# 60% train, 20% dev, 20% test\n",
    "df_train_dev, df_test = train_test_split(df_shuffled, test_size=0.2, random_state=RNG_SEED)\n",
    "df_train, df_dev = train_test_split(df_train_dev, test_size=0.25, random_state=RNG_SEED)"
   ],
   "metadata": {
    "collapsed": false
   }
  },
  {
   "cell_type": "code",
   "execution_count": 11,
   "outputs": [
    {
     "name": "stdout",
     "output_type": "stream",
     "text": [
      "len(df_train) = 9015\n",
      "len(df_dev) = 3006\n",
      "len(df_test) = 3006\n"
     ]
    }
   ],
   "source": [
    "print(f\"{len(df_train) = }\")\n",
    "print(f\"{len(df_dev) = }\")\n",
    "print(f\"{len(df_test) = }\")"
   ],
   "metadata": {
    "collapsed": false
   }
  },
  {
   "cell_type": "code",
   "execution_count": 12,
   "outputs": [
    {
     "data": {
      "text/plain": "                              title    genre  \\\n2092                       Ma Baker      pop   \n11335          Ridin' The Storm Out     rock   \n15676         As Good As I Once Was  country   \n2300             Little Drummer Boy      pop   \n816    Do Right Woman, Do Right Man      pop   \n\n                                              urlSpotify  \\\n2092   https://play.spotify.com/track/4SMVEIfMusETeLh...   \n11335  https://play.spotify.com/track/0SkmxNE5ydxiEN0...   \n15676  https://play.spotify.com/track/5KjhrsPiaDtefxG...   \n2300   https://play.spotify.com/track/2YTWQAF0A7rzCSp...   \n816    https://play.spotify.com/track/6uAEJQpAPoYmM6M...   \n\n                    spotifyID  \\\n2092   4SMVEIfMusETeLhl7ptFUh   \n11335  0SkmxNE5ydxiEN0hzJbMac   \n15676  5KjhrsPiaDtefxGFfTUmaO   \n2300   2YTWQAF0A7rzCSpfeiHZa5   \n816    6uAEJQpAPoYmM6Mb0tJN2I   \n\n                                                  lyrics  \n2092   Freeze, I'm Ma Baker, put your hands in the ai...  \n11335  Ridin' the storm out, waitin' for the thaw out...  \n15676  She said I seen you in here before\\nI said I b...  \n2300   Come they told me, pa rum pum-pum-pum\\nA new b...  \n816    Take me to heart and I'll always love you\\nAnd...  ",
      "text/html": "<div>\n<style scoped>\n    .dataframe tbody tr th:only-of-type {\n        vertical-align: middle;\n    }\n\n    .dataframe tbody tr th {\n        vertical-align: top;\n    }\n\n    .dataframe thead th {\n        text-align: right;\n    }\n</style>\n<table border=\"1\" class=\"dataframe\">\n  <thead>\n    <tr style=\"text-align: right;\">\n      <th></th>\n      <th>title</th>\n      <th>genre</th>\n      <th>urlSpotify</th>\n      <th>spotifyID</th>\n      <th>lyrics</th>\n    </tr>\n  </thead>\n  <tbody>\n    <tr>\n      <th>2092</th>\n      <td>Ma Baker</td>\n      <td>pop</td>\n      <td>https://play.spotify.com/track/4SMVEIfMusETeLh...</td>\n      <td>4SMVEIfMusETeLhl7ptFUh</td>\n      <td>Freeze, I'm Ma Baker, put your hands in the ai...</td>\n    </tr>\n    <tr>\n      <th>11335</th>\n      <td>Ridin' The Storm Out</td>\n      <td>rock</td>\n      <td>https://play.spotify.com/track/0SkmxNE5ydxiEN0...</td>\n      <td>0SkmxNE5ydxiEN0hzJbMac</td>\n      <td>Ridin' the storm out, waitin' for the thaw out...</td>\n    </tr>\n    <tr>\n      <th>15676</th>\n      <td>As Good As I Once Was</td>\n      <td>country</td>\n      <td>https://play.spotify.com/track/5KjhrsPiaDtefxG...</td>\n      <td>5KjhrsPiaDtefxGFfTUmaO</td>\n      <td>She said I seen you in here before\\nI said I b...</td>\n    </tr>\n    <tr>\n      <th>2300</th>\n      <td>Little Drummer Boy</td>\n      <td>pop</td>\n      <td>https://play.spotify.com/track/2YTWQAF0A7rzCSp...</td>\n      <td>2YTWQAF0A7rzCSpfeiHZa5</td>\n      <td>Come they told me, pa rum pum-pum-pum\\nA new b...</td>\n    </tr>\n    <tr>\n      <th>816</th>\n      <td>Do Right Woman, Do Right Man</td>\n      <td>pop</td>\n      <td>https://play.spotify.com/track/6uAEJQpAPoYmM6M...</td>\n      <td>6uAEJQpAPoYmM6Mb0tJN2I</td>\n      <td>Take me to heart and I'll always love you\\nAnd...</td>\n    </tr>\n  </tbody>\n</table>\n</div>"
     },
     "execution_count": 12,
     "metadata": {},
     "output_type": "execute_result"
    }
   ],
   "source": [
    "df_train.head()"
   ],
   "metadata": {
    "collapsed": false
   }
  },
  {
   "cell_type": "code",
   "execution_count": 13,
   "outputs": [],
   "source": [
    "nlp = spacy.load(\"en_core_web_sm\")\n",
    "\n",
    "def save_docs(song_data: pd.DataFrame, output_file: str) -> None:\n",
    "    db = DocBin()\n",
    "\n",
    "    def add_doc(lyrics: str, label: str) -> None:\n",
    "        doc = nlp.make_doc(lyrics)\n",
    "        doc.cats = {cat: int(cat == label) for cat in genre_mappings.values()}\n",
    "        db.add(doc)\n",
    "\n",
    "    for _, row in song_data.iterrows():\n",
    "        add_doc(row[\"lyrics\"], row[\"genre\"])\n",
    "\n",
    "    db.to_disk(output_file)\n",
    "\n",
    "\n",
    "save_docs(df_train, \"spacy/train.spacy\")\n",
    "save_docs(df_dev, \"spacy/dev.spacy\")\n",
    "save_docs(df_test, \"spacy/test.spacy\")"
   ],
   "metadata": {
    "collapsed": false
   }
  },
  {
   "cell_type": "code",
   "execution_count": 14,
   "outputs": [
    {
     "name": "stdout",
     "output_type": "stream",
     "text": [
      "\u001B[38;5;4mℹ Generated config template specific for your use case\u001B[0m\r\n",
      "- Language: en\r\n",
      "- Pipeline: textcat\r\n",
      "- Optimize for: efficiency\r\n",
      "- Hardware: CPU\r\n",
      "- Transformer: None\r\n",
      "\u001B[38;5;2m✔ Auto-filled config with all values\u001B[0m\r\n",
      "\u001B[38;5;2m✔ Saved config\u001B[0m\r\n",
      "spacy/config-no-transformer.cfg\r\n",
      "You can now add your data and train your pipeline:\r\n",
      "python -m spacy train config-no-transformer.cfg --paths.train ./train.spacy --paths.dev ./dev.spacy\r\n"
     ]
    }
   ],
   "source": [
    "!python -m spacy init config --pipeline textcat spacy/config-no-transformer.cfg"
   ],
   "metadata": {
    "collapsed": false
   }
  },
  {
   "cell_type": "code",
   "execution_count": 15,
   "outputs": [
    {
     "name": "stdout",
     "output_type": "stream",
     "text": [
      "\u001B[38;5;4mℹ Saving to output directory: textcat_model\u001B[0m\r\n",
      "\u001B[38;5;4mℹ Using CPU\u001B[0m\r\n",
      "\u001B[1m\r\n",
      "=========================== Initializing pipeline ===========================\u001B[0m\r\n",
      "[2023-03-28 14:53:48,469] [INFO] Set up nlp object from config\r\n",
      "[2023-03-28 14:53:48,489] [INFO] Pipeline: ['textcat']\r\n",
      "[2023-03-28 14:53:48,494] [INFO] Created vocabulary\r\n",
      "[2023-03-28 14:53:48,501] [INFO] Finished initializing nlp object\r\n",
      "[2023-03-28 14:55:36,726] [INFO] Initialized pipeline components: ['textcat']\r\n",
      "\u001B[38;5;2m✔ Initialized pipeline\u001B[0m\r\n",
      "\u001B[1m\r\n",
      "============================= Training pipeline =============================\u001B[0m\r\n",
      "\u001B[38;5;4mℹ Pipeline: ['textcat']\u001B[0m\r\n",
      "\u001B[38;5;4mℹ Initial learn rate: 0.001\u001B[0m\r\n",
      "E    #       LOSS TEXTCAT  CATS_SCORE  SCORE \r\n",
      "---  ------  ------------  ----------  ------\r\n",
      "  0       0          0.09        0.69    0.01\r\n",
      "  0     200         17.03       12.02    0.12\r\n",
      "  0     400         17.44       11.87    0.12\r\n",
      "  0     600         18.15       14.24    0.14\r\n",
      "  0     800         17.89       12.09    0.12\r\n",
      "  0    1000         19.85       13.24    0.13\r\n",
      "  0    1200         17.82       14.03    0.14\r\n",
      "  0    1400         18.09       15.15    0.15\r\n",
      "  0    1600         16.31       18.15    0.18\r\n",
      "  0    1800         17.57       16.77    0.17\r\n",
      "  0    2000         19.96       17.86    0.18\r\n",
      "  0    2200         19.61       17.52    0.18\r\n",
      "  0    2400         19.47       18.98    0.19\r\n",
      "  0    2600         19.31       13.08    0.13\r\n",
      "  0    2800         20.50       19.53    0.20\r\n",
      "  0    3000         17.09       15.82    0.16\r\n",
      "  0    3200         17.92       21.42    0.21\r\n",
      "  0    3400         18.68       19.03    0.19\r\n",
      "  0    3600         18.21       21.43    0.21\r\n",
      "  0    3800         20.52       20.07    0.20\r\n",
      "  0    4000         16.50       22.43    0.22\r\n",
      "  0    4200         18.86       20.06    0.20\r\n",
      "  0    4400         18.97       22.38    0.22\r\n",
      "  0    4600         18.89       21.60    0.22\r\n",
      "  0    4800         17.31       21.74    0.22\r\n",
      "  0    5000         16.22       21.24    0.21\r\n",
      "  0    5200         17.01       20.88    0.21\r\n",
      "  0    5400         18.45       21.85    0.22\r\n",
      "  0    5600         18.89       23.14    0.23\r\n",
      "  0    5800         19.78       23.02    0.23\r\n",
      "  0    6000         19.10       22.16    0.22\r\n",
      "  0    6200         20.92       22.86    0.23\r\n",
      "  0    6400         18.90       23.52    0.24\r\n",
      "  0    6600         20.09       23.36    0.23\r\n",
      "  0    6800         17.89       23.61    0.24\r\n",
      "  0    7000         18.05       23.05    0.23\r\n",
      "  0    7200         17.11       22.60    0.23\r\n",
      "  0    7400         17.03       23.96    0.24\r\n",
      "  0    7600         18.48       22.41    0.22\r\n",
      "  0    7800         17.73       22.23    0.22\r\n",
      "  0    8000         21.25       23.81    0.24\r\n",
      "  0    8200         18.61       24.87    0.25\r\n",
      "  0    8400         18.43       23.63    0.24\r\n",
      "  0    8600         20.98       24.14    0.24\r\n",
      "  0    8800         17.76       25.68    0.26\r\n",
      "  0    9000         18.13       23.67    0.24\r\n",
      "  1    9200         15.54       25.35    0.25\r\n",
      "  1    9400         13.89       28.00    0.28\r\n",
      "  1    9600         14.52       27.87    0.28\r\n",
      "  1    9800         13.90       26.19    0.26\r\n",
      "  1   10000         14.25       27.17    0.27\r\n",
      "  1   10200         12.57       26.66    0.27\r\n",
      "  1   10400         15.09       26.07    0.26\r\n",
      "  1   10600         15.03       26.64    0.27\r\n",
      "  1   10800         15.73       25.85    0.26\r\n",
      "  1   11000         15.18       25.83    0.26\r\n",
      "\u001B[38;5;2m✔ Saved pipeline to output directory\u001B[0m\r\n",
      "textcat_model/model-last\r\n"
     ]
    }
   ],
   "source": [
    "!python -m spacy train spacy/config-no-transformer.cfg --paths.train spacy/train.spacy  --paths.dev spacy/dev.spacy --output textcat_model"
   ],
   "metadata": {
    "collapsed": false
   }
  },
  {
   "cell_type": "code",
   "execution_count": 16,
   "outputs": [
    {
     "name": "stdout",
     "output_type": "stream",
     "text": [
      "\u001B[38;5;4mℹ Using CPU\u001B[0m\r\n",
      "\u001B[1m\r\n",
      "================================== Results ==================================\u001B[0m\r\n",
      "\r\n",
      "TOK                 100.00\r\n",
      "TEXTCAT (macro F)   23.63 \r\n",
      "SPEED               302554\r\n",
      "\r\n",
      "\u001B[1m\r\n",
      "=========================== Textcat F (per label) ===========================\u001B[0m\r\n",
      "\r\n",
      "              P       R       F\r\n",
      "pop       46.48   67.59   55.08\r\n",
      "rock      51.54   40.79   45.54\r\n",
      "country   39.71   40.89   40.29\r\n",
      "folk      50.00   10.53   17.39\r\n",
      "jazz      13.64   18.00   15.52\r\n",
      "hip hop   40.00    2.13    4.04\r\n",
      "rap        0.00    0.00    0.00\r\n",
      "soul      21.43    8.49   12.16\r\n",
      "blues     40.96   24.64   30.77\r\n",
      "metal     19.18   12.96   15.47\r\n",
      "\r\n",
      "\u001B[1m\r\n",
      "======================== Textcat ROC AUC (per label) ========================\u001B[0m\r\n",
      "\r\n",
      "          ROC AUC\r\n",
      "pop          0.67\r\n",
      "rock         0.65\r\n",
      "country      0.83\r\n",
      "folk         0.64\r\n",
      "jazz         0.69\r\n",
      "hip hop      0.17\r\n",
      "rap          0.21\r\n",
      "soul         0.56\r\n",
      "blues        0.71\r\n",
      "metal        0.66\r\n",
      "\r\n",
      "\u001B[38;5;2m✔ Saved results to metrics.json\u001B[0m\r\n"
     ]
    }
   ],
   "source": [
    "!python -m spacy evaluate textcat_model/model-best/ --output metrics.json spacy/test.spacy"
   ],
   "metadata": {
    "collapsed": false
   }
  }
 ],
 "metadata": {
  "kernelspec": {
   "display_name": "Python 3",
   "language": "python",
   "name": "python3"
  },
  "language_info": {
   "codemirror_mode": {
    "name": "ipython",
    "version": 2
   },
   "file_extension": ".py",
   "mimetype": "text/x-python",
   "name": "python",
   "nbconvert_exporter": "python",
   "pygments_lexer": "ipython2",
   "version": "2.7.6"
  }
 },
 "nbformat": 4,
 "nbformat_minor": 0
}
