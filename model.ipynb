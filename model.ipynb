{
 "cells": [
  {
   "cell_type": "code",
   "execution_count": 1,
   "metadata": {},
   "outputs": [
    {
     "name": "stdout",
     "output_type": "stream",
     "text": [
      "Defaulting to user installation because normal site-packages is not writeable\n",
      "Collecting spacy\n",
      "  Downloading spacy-3.5.1-cp310-cp310-win_amd64.whl (12.2 MB)\n",
      "     ---------------------------------------- 0.0/12.2 MB ? eta -:--:--\n",
      "      --------------------------------------- 0.2/12.2 MB 6.7 MB/s eta 0:00:02\n",
      "     -- ------------------------------------- 0.8/12.2 MB 10.4 MB/s eta 0:00:02\n",
      "     -------- ------------------------------- 2.5/12.2 MB 20.2 MB/s eta 0:00:01\n",
      "     -------------- ------------------------- 4.4/12.2 MB 25.7 MB/s eta 0:00:01\n",
      "     --------------------- ------------------ 6.7/12.2 MB 28.3 MB/s eta 0:00:01\n",
      "     ---------------------------- ----------- 8.8/12.2 MB 29.7 MB/s eta 0:00:01\n",
      "     ------------------------------------ -- 11.5/12.2 MB 38.5 MB/s eta 0:00:01\n",
      "     --------------------------------------- 12.2/12.2 MB 34.4 MB/s eta 0:00:00\n",
      "Collecting murmurhash<1.1.0,>=0.28.0\n",
      "  Downloading murmurhash-1.0.9-cp310-cp310-win_amd64.whl (18 kB)\n",
      "Collecting jinja2\n",
      "  Downloading Jinja2-3.1.2-py3-none-any.whl (133 kB)\n",
      "     ---------------------------------------- 0.0/133.1 kB ? eta -:--:--\n",
      "     -------------------------------------- 133.1/133.1 kB 8.2 MB/s eta 0:00:00\n",
      "Collecting typer<0.8.0,>=0.3.0\n",
      "  Downloading typer-0.7.0-py3-none-any.whl (38 kB)\n",
      "Requirement already satisfied: requests<3.0.0,>=2.13.0 in c:\\users\\tdcom\\appdata\\roaming\\python\\python310\\site-packages (from spacy) (2.28.1)\n",
      "Collecting catalogue<2.1.0,>=2.0.6\n",
      "  Downloading catalogue-2.0.8-py3-none-any.whl (17 kB)\n",
      "Collecting pathy>=0.10.0\n",
      "  Downloading pathy-0.10.1-py3-none-any.whl (48 kB)\n",
      "     ---------------------------------------- 0.0/48.9 kB ? eta -:--:--\n",
      "     ---------------------------------------- 48.9/48.9 kB ? eta 0:00:00\n",
      "Requirement already satisfied: numpy>=1.15.0 in c:\\users\\tdcom\\appdata\\roaming\\python\\python310\\site-packages (from spacy) (1.23.4)\n",
      "Collecting pydantic!=1.8,!=1.8.1,<1.11.0,>=1.7.4\n",
      "  Downloading pydantic-1.10.7-cp310-cp310-win_amd64.whl (2.1 MB)\n",
      "     ---------------------------------------- 0.0/2.1 MB ? eta -:--:--\n",
      "     -------------------------------- ------- 1.7/2.1 MB 35.9 MB/s eta 0:00:01\n",
      "     ---------------------------------------- 2.1/2.1 MB 33.5 MB/s eta 0:00:00\n",
      "Collecting preshed<3.1.0,>=3.0.2\n",
      "  Downloading preshed-3.0.8-cp310-cp310-win_amd64.whl (94 kB)\n",
      "     ---------------------------------------- 0.0/94.7 kB ? eta -:--:--\n",
      "     ---------------------------------------- 94.7/94.7 kB ? eta 0:00:00\n",
      "Collecting cymem<2.1.0,>=2.0.2\n",
      "  Downloading cymem-2.0.7-cp310-cp310-win_amd64.whl (29 kB)\n",
      "Collecting langcodes<4.0.0,>=3.2.0\n",
      "  Downloading langcodes-3.3.0-py3-none-any.whl (181 kB)\n",
      "     ---------------------------------------- 0.0/181.6 kB ? eta -:--:--\n",
      "     ---------------------------------------- 181.6/181.6 kB ? eta 0:00:00\n",
      "Requirement already satisfied: tqdm<5.0.0,>=4.38.0 in c:\\users\\tdcom\\appdata\\roaming\\python\\python310\\site-packages (from spacy) (4.64.1)\n",
      "Collecting spacy-legacy<3.1.0,>=3.0.11\n",
      "  Downloading spacy_legacy-3.0.12-py2.py3-none-any.whl (29 kB)\n",
      "Collecting srsly<3.0.0,>=2.4.3\n",
      "  Downloading srsly-2.4.6-cp310-cp310-win_amd64.whl (480 kB)\n",
      "     ---------------------------------------- 0.0/480.9 kB ? eta -:--:--\n",
      "     ------------------------------------- 480.9/480.9 kB 31.4 MB/s eta 0:00:00\n",
      "Requirement already satisfied: packaging>=20.0 in c:\\users\\tdcom\\appdata\\roaming\\python\\python310\\site-packages (from spacy) (21.3)\n",
      "Collecting wasabi<1.2.0,>=0.9.1\n",
      "  Downloading wasabi-1.1.1-py3-none-any.whl (27 kB)\n",
      "Collecting spacy-loggers<2.0.0,>=1.0.0\n",
      "  Downloading spacy_loggers-1.0.4-py3-none-any.whl (11 kB)\n",
      "Collecting smart-open<7.0.0,>=5.2.1\n",
      "  Downloading smart_open-6.3.0-py3-none-any.whl (56 kB)\n",
      "     ---------------------------------------- 0.0/56.8 kB ? eta -:--:--\n",
      "     ---------------------------------------- 56.8/56.8 kB ? eta 0:00:00\n",
      "Collecting thinc<8.2.0,>=8.1.8\n",
      "  Downloading thinc-8.1.9-cp310-cp310-win_amd64.whl (1.5 MB)\n",
      "     ---------------------------------------- 0.0/1.5 MB ? eta -:--:--\n",
      "     ---------------------------------------  1.4/1.5 MB 30.3 MB/s eta 0:00:01\n",
      "     ---------------------------------------- 1.5/1.5 MB 31.0 MB/s eta 0:00:00\n",
      "Requirement already satisfied: setuptools in c:\\program files\\python310\\lib\\site-packages (from spacy) (58.1.0)\n",
      "Requirement already satisfied: pyparsing!=3.0.5,>=2.0.2 in c:\\users\\tdcom\\appdata\\roaming\\python\\python310\\site-packages (from packaging>=20.0->spacy) (3.0.9)\n",
      "Requirement already satisfied: typing-extensions>=4.2.0 in c:\\users\\tdcom\\appdata\\roaming\\python\\python310\\site-packages (from pydantic!=1.8,!=1.8.1,<1.11.0,>=1.7.4->spacy) (4.4.0)\n",
      "Requirement already satisfied: certifi>=2017.4.17 in c:\\users\\tdcom\\appdata\\roaming\\python\\python310\\site-packages (from requests<3.0.0,>=2.13.0->spacy) (2022.9.24)\n",
      "Requirement already satisfied: urllib3<1.27,>=1.21.1 in c:\\users\\tdcom\\appdata\\roaming\\python\\python310\\site-packages (from requests<3.0.0,>=2.13.0->spacy) (1.26.12)\n",
      "Requirement already satisfied: idna<4,>=2.5 in c:\\users\\tdcom\\appdata\\roaming\\python\\python310\\site-packages (from requests<3.0.0,>=2.13.0->spacy) (3.4)\n",
      "Requirement already satisfied: charset-normalizer<3,>=2 in c:\\users\\tdcom\\appdata\\roaming\\python\\python310\\site-packages (from requests<3.0.0,>=2.13.0->spacy) (2.1.1)\n",
      "Collecting blis<0.8.0,>=0.7.8\n",
      "  Downloading blis-0.7.9-cp310-cp310-win_amd64.whl (7.0 MB)\n",
      "     ---------------------------------------- 0.0/7.0 MB ? eta -:--:--\n",
      "     --------- ------------------------------ 1.8/7.0 MB 56.2 MB/s eta 0:00:01\n",
      "     -------------------- ------------------- 3.6/7.0 MB 45.4 MB/s eta 0:00:01\n",
      "     ------------------------------ --------- 5.4/7.0 MB 43.0 MB/s eta 0:00:01\n",
      "     ---------------------------------------  7.0/7.0 MB 40.7 MB/s eta 0:00:01\n",
      "     ---------------------------------------- 7.0/7.0 MB 37.5 MB/s eta 0:00:00\n",
      "Collecting confection<1.0.0,>=0.0.1\n",
      "  Downloading confection-0.0.4-py3-none-any.whl (32 kB)\n",
      "Requirement already satisfied: colorama in c:\\users\\tdcom\\appdata\\roaming\\python\\python310\\site-packages (from tqdm<5.0.0,>=4.38.0->spacy) (0.4.6)\n",
      "Collecting click<9.0.0,>=7.1.1\n",
      "  Downloading click-8.1.3-py3-none-any.whl (96 kB)\n",
      "     ---------------------------------------- 0.0/96.6 kB ? eta -:--:--\n",
      "     ---------------------------------------- 96.6/96.6 kB ? eta 0:00:00\n",
      "Collecting MarkupSafe>=2.0\n",
      "  Downloading MarkupSafe-2.1.2-cp310-cp310-win_amd64.whl (16 kB)\n",
      "Installing collected packages: cymem, wasabi, spacy-loggers, spacy-legacy, smart-open, pydantic, murmurhash, MarkupSafe, langcodes, click, catalogue, blis, typer, srsly, preshed, jinja2, pathy, confection, thinc, spacy\n",
      "Successfully installed MarkupSafe-2.1.2 blis-0.7.9 catalogue-2.0.8 click-8.1.3 confection-0.0.4 cymem-2.0.7 jinja2-3.1.2 langcodes-3.3.0 murmurhash-1.0.9 pathy-0.10.1 preshed-3.0.8 pydantic-1.10.7 smart-open-6.3.0 spacy-3.5.1 spacy-legacy-3.0.12 spacy-loggers-1.0.4 srsly-2.4.6 thinc-8.1.9 typer-0.7.0 wasabi-1.1.1\n"
     ]
    }
   ],
   "source": [
    "!pip install spacy"
   ]
  },
  {
   "cell_type": "code",
   "execution_count": 2,
   "metadata": {},
   "outputs": [
    {
     "name": "stdout",
     "output_type": "stream",
     "text": [
      "Defaulting to user installation because normal site-packages is not writeable\n",
      "Collecting classy_classification\n",
      "  Downloading classy_classification-0.6.2-py3-none-any.whl (15 kB)\n",
      "Collecting scikit-learn<2.0,>=1.0\n",
      "  Downloading scikit_learn-1.2.2-cp310-cp310-win_amd64.whl (8.3 MB)\n",
      "     ---------------------------------------- 0.0/8.3 MB ? eta -:--:--\n",
      "     - -------------------------------------- 0.4/8.3 MB 7.6 MB/s eta 0:00:02\n",
      "     ---------- ----------------------------- 2.2/8.3 MB 19.7 MB/s eta 0:00:01\n",
      "     ---------------------- ----------------- 4.6/8.3 MB 26.8 MB/s eta 0:00:01\n",
      "     ---------------------------- ----------- 6.0/8.3 MB 29.5 MB/s eta 0:00:01\n",
      "     --------------------------------- ------ 6.9/8.3 MB 21.1 MB/s eta 0:00:01\n",
      "     ---------------------------------------- 8.3/8.3 MB 23.1 MB/s eta 0:00:00\n",
      "Collecting sentence-transformers<3.0,>=2.0\n",
      "  Downloading sentence-transformers-2.2.2.tar.gz (85 kB)\n",
      "     ---------------------------------------- 0.0/86.0 kB ? eta -:--:--\n",
      "     ---------------------------------------- 86.0/86.0 kB 4.7 MB/s eta 0:00:00\n",
      "  Preparing metadata (setup.py): started\n",
      "  Preparing metadata (setup.py): finished with status 'done'\n",
      "Requirement already satisfied: pandas<2.0,>=1.4 in c:\\users\\tdcom\\appdata\\roaming\\python\\python310\\site-packages (from classy_classification) (1.5.3)\n",
      "Requirement already satisfied: spacy[transformers]<4.0,>=3.0 in c:\\users\\tdcom\\appdata\\roaming\\python\\python310\\site-packages (from classy_classification) (3.5.1)\n",
      "Requirement already satisfied: numpy>=1.21.0 in c:\\users\\tdcom\\appdata\\roaming\\python\\python310\\site-packages (from pandas<2.0,>=1.4->classy_classification) (1.23.4)\n",
      "Requirement already satisfied: python-dateutil>=2.8.1 in c:\\users\\tdcom\\appdata\\roaming\\python\\python310\\site-packages (from pandas<2.0,>=1.4->classy_classification) (2.8.2)\n",
      "Requirement already satisfied: pytz>=2020.1 in c:\\users\\tdcom\\appdata\\roaming\\python\\python310\\site-packages (from pandas<2.0,>=1.4->classy_classification) (2022.7.1)\n",
      "Collecting joblib>=1.1.1\n",
      "  Downloading joblib-1.2.0-py3-none-any.whl (297 kB)\n",
      "     ---------------------------------------- 0.0/298.0 kB ? eta -:--:--\n",
      "     -------------------------------------- 298.0/298.0 kB 9.3 MB/s eta 0:00:00\n",
      "Requirement already satisfied: scipy>=1.3.2 in c:\\users\\tdcom\\appdata\\roaming\\python\\python310\\site-packages (from scikit-learn<2.0,>=1.0->classy_classification) (1.9.3)\n",
      "Collecting threadpoolctl>=2.0.0\n",
      "  Downloading threadpoolctl-3.1.0-py3-none-any.whl (14 kB)\n",
      "Requirement already satisfied: transformers<5.0.0,>=4.6.0 in c:\\users\\tdcom\\appdata\\roaming\\python\\python310\\site-packages (from sentence-transformers<3.0,>=2.0->classy_classification) (4.23.1)\n",
      "Requirement already satisfied: tqdm in c:\\users\\tdcom\\appdata\\roaming\\python\\python310\\site-packages (from sentence-transformers<3.0,>=2.0->classy_classification) (4.64.1)\n",
      "Requirement already satisfied: torch>=1.6.0 in c:\\users\\tdcom\\appdata\\roaming\\python\\python310\\site-packages (from sentence-transformers<3.0,>=2.0->classy_classification) (1.12.1)\n",
      "Requirement already satisfied: torchvision in c:\\users\\tdcom\\appdata\\roaming\\python\\python310\\site-packages (from sentence-transformers<3.0,>=2.0->classy_classification) (0.13.1)\n",
      "Collecting nltk\n",
      "  Downloading nltk-3.8.1-py3-none-any.whl (1.5 MB)\n",
      "     ---------------------------------------- 0.0/1.5 MB ? eta -:--:--\n",
      "     ---------------------------------------  1.5/1.5 MB 48.2 MB/s eta 0:00:01\n",
      "     ---------------------------------------- 1.5/1.5 MB 48.4 MB/s eta 0:00:00\n",
      "Collecting sentencepiece\n",
      "  Downloading sentencepiece-0.1.97-cp310-cp310-win_amd64.whl (1.1 MB)\n",
      "     ---------------------------------------- 0.0/1.1 MB ? eta -:--:--\n",
      "     ---------------------------------------- 1.1/1.1 MB 36.2 MB/s eta 0:00:00\n",
      "Collecting huggingface-hub>=0.4.0\n",
      "  Downloading huggingface_hub-0.13.3-py3-none-any.whl (199 kB)\n",
      "     ---------------------------------------- 0.0/199.8 kB ? eta -:--:--\n",
      "     ------------------------------------- 199.8/199.8 kB 11.8 MB/s eta 0:00:00\n",
      "Requirement already satisfied: cymem<2.1.0,>=2.0.2 in c:\\users\\tdcom\\appdata\\roaming\\python\\python310\\site-packages (from spacy[transformers]<4.0,>=3.0->classy_classification) (2.0.7)\n",
      "Requirement already satisfied: typer<0.8.0,>=0.3.0 in c:\\users\\tdcom\\appdata\\roaming\\python\\python310\\site-packages (from spacy[transformers]<4.0,>=3.0->classy_classification) (0.7.0)\n",
      "Requirement already satisfied: preshed<3.1.0,>=3.0.2 in c:\\users\\tdcom\\appdata\\roaming\\python\\python310\\site-packages (from spacy[transformers]<4.0,>=3.0->classy_classification) (3.0.8)\n",
      "Requirement already satisfied: pathy>=0.10.0 in c:\\users\\tdcom\\appdata\\roaming\\python\\python310\\site-packages (from spacy[transformers]<4.0,>=3.0->classy_classification) (0.10.1)\n",
      "Requirement already satisfied: spacy-loggers<2.0.0,>=1.0.0 in c:\\users\\tdcom\\appdata\\roaming\\python\\python310\\site-packages (from spacy[transformers]<4.0,>=3.0->classy_classification) (1.0.4)\n",
      "Requirement already satisfied: spacy-legacy<3.1.0,>=3.0.11 in c:\\users\\tdcom\\appdata\\roaming\\python\\python310\\site-packages (from spacy[transformers]<4.0,>=3.0->classy_classification) (3.0.12)\n",
      "Requirement already satisfied: smart-open<7.0.0,>=5.2.1 in c:\\users\\tdcom\\appdata\\roaming\\python\\python310\\site-packages (from spacy[transformers]<4.0,>=3.0->classy_classification) (6.3.0)\n",
      "Requirement already satisfied: setuptools in c:\\program files\\python310\\lib\\site-packages (from spacy[transformers]<4.0,>=3.0->classy_classification) (58.1.0)\n",
      "Requirement already satisfied: catalogue<2.1.0,>=2.0.6 in c:\\users\\tdcom\\appdata\\roaming\\python\\python310\\site-packages (from spacy[transformers]<4.0,>=3.0->classy_classification) (2.0.8)\n",
      "Requirement already satisfied: pydantic!=1.8,!=1.8.1,<1.11.0,>=1.7.4 in c:\\users\\tdcom\\appdata\\roaming\\python\\python310\\site-packages (from spacy[transformers]<4.0,>=3.0->classy_classification) (1.10.7)\n",
      "Requirement already satisfied: wasabi<1.2.0,>=0.9.1 in c:\\users\\tdcom\\appdata\\roaming\\python\\python310\\site-packages (from spacy[transformers]<4.0,>=3.0->classy_classification) (1.1.1)\n",
      "Requirement already satisfied: packaging>=20.0 in c:\\users\\tdcom\\appdata\\roaming\\python\\python310\\site-packages (from spacy[transformers]<4.0,>=3.0->classy_classification) (21.3)\n",
      "Requirement already satisfied: srsly<3.0.0,>=2.4.3 in c:\\users\\tdcom\\appdata\\roaming\\python\\python310\\site-packages (from spacy[transformers]<4.0,>=3.0->classy_classification) (2.4.6)\n",
      "Requirement already satisfied: langcodes<4.0.0,>=3.2.0 in c:\\users\\tdcom\\appdata\\roaming\\python\\python310\\site-packages (from spacy[transformers]<4.0,>=3.0->classy_classification) (3.3.0)\n",
      "Requirement already satisfied: thinc<8.2.0,>=8.1.8 in c:\\users\\tdcom\\appdata\\roaming\\python\\python310\\site-packages (from spacy[transformers]<4.0,>=3.0->classy_classification) (8.1.9)\n",
      "Requirement already satisfied: murmurhash<1.1.0,>=0.28.0 in c:\\users\\tdcom\\appdata\\roaming\\python\\python310\\site-packages (from spacy[transformers]<4.0,>=3.0->classy_classification) (1.0.9)\n",
      "Requirement already satisfied: jinja2 in c:\\users\\tdcom\\appdata\\roaming\\python\\python310\\site-packages (from spacy[transformers]<4.0,>=3.0->classy_classification) (3.1.2)\n",
      "Requirement already satisfied: requests<3.0.0,>=2.13.0 in c:\\users\\tdcom\\appdata\\roaming\\python\\python310\\site-packages (from spacy[transformers]<4.0,>=3.0->classy_classification) (2.28.1)\n",
      "Collecting spacy-transformers<1.3.0,>=1.1.2\n",
      "  Downloading spacy_transformers-1.2.2-cp310-cp310-win_amd64.whl (299 kB)\n",
      "     ---------------------------------------- 0.0/299.5 kB ? eta -:--:--\n",
      "     ------------------------------------- 299.5/299.5 kB 18.1 MB/s eta 0:00:00\n",
      "Requirement already satisfied: filelock in c:\\users\\tdcom\\appdata\\roaming\\python\\python310\\site-packages (from huggingface-hub>=0.4.0->sentence-transformers<3.0,>=2.0->classy_classification) (3.8.0)\n",
      "Requirement already satisfied: pyyaml>=5.1 in c:\\users\\tdcom\\appdata\\roaming\\python\\python310\\site-packages (from huggingface-hub>=0.4.0->sentence-transformers<3.0,>=2.0->classy_classification) (6.0)\n",
      "Requirement already satisfied: typing-extensions>=3.7.4.3 in c:\\users\\tdcom\\appdata\\roaming\\python\\python310\\site-packages (from huggingface-hub>=0.4.0->sentence-transformers<3.0,>=2.0->classy_classification) (4.4.0)\n",
      "Requirement already satisfied: pyparsing!=3.0.5,>=2.0.2 in c:\\users\\tdcom\\appdata\\roaming\\python\\python310\\site-packages (from packaging>=20.0->spacy[transformers]<4.0,>=3.0->classy_classification) (3.0.9)\n",
      "Requirement already satisfied: six>=1.5 in c:\\users\\tdcom\\appdata\\roaming\\python\\python310\\site-packages (from python-dateutil>=2.8.1->pandas<2.0,>=1.4->classy_classification) (1.16.0)\n",
      "Requirement already satisfied: charset-normalizer<3,>=2 in c:\\users\\tdcom\\appdata\\roaming\\python\\python310\\site-packages (from requests<3.0.0,>=2.13.0->spacy[transformers]<4.0,>=3.0->classy_classification) (2.1.1)\n",
      "Requirement already satisfied: urllib3<1.27,>=1.21.1 in c:\\users\\tdcom\\appdata\\roaming\\python\\python310\\site-packages (from requests<3.0.0,>=2.13.0->spacy[transformers]<4.0,>=3.0->classy_classification) (1.26.12)\n",
      "Requirement already satisfied: idna<4,>=2.5 in c:\\users\\tdcom\\appdata\\roaming\\python\\python310\\site-packages (from requests<3.0.0,>=2.13.0->spacy[transformers]<4.0,>=3.0->classy_classification) (3.4)\n",
      "Requirement already satisfied: certifi>=2017.4.17 in c:\\users\\tdcom\\appdata\\roaming\\python\\python310\\site-packages (from requests<3.0.0,>=2.13.0->spacy[transformers]<4.0,>=3.0->classy_classification) (2022.9.24)\n",
      "Collecting spacy-alignments<1.0.0,>=0.7.2\n",
      "  Downloading spacy_alignments-0.9.0-cp310-cp310-win_amd64.whl (186 kB)\n",
      "     ---------------------------------------- 0.0/186.7 kB ? eta -:--:--\n",
      "     ---------------------------------------- 186.7/186.7 kB ? eta 0:00:00\n",
      "Requirement already satisfied: blis<0.8.0,>=0.7.8 in c:\\users\\tdcom\\appdata\\roaming\\python\\python310\\site-packages (from thinc<8.2.0,>=8.1.8->spacy[transformers]<4.0,>=3.0->classy_classification) (0.7.9)\n",
      "Requirement already satisfied: confection<1.0.0,>=0.0.1 in c:\\users\\tdcom\\appdata\\roaming\\python\\python310\\site-packages (from thinc<8.2.0,>=8.1.8->spacy[transformers]<4.0,>=3.0->classy_classification) (0.0.4)\n",
      "Requirement already satisfied: colorama in c:\\users\\tdcom\\appdata\\roaming\\python\\python310\\site-packages (from tqdm->sentence-transformers<3.0,>=2.0->classy_classification) (0.4.6)\n",
      "Requirement already satisfied: regex!=2019.12.17 in c:\\users\\tdcom\\appdata\\roaming\\python\\python310\\site-packages (from transformers<5.0.0,>=4.6.0->sentence-transformers<3.0,>=2.0->classy_classification) (2022.9.13)\n",
      "Requirement already satisfied: tokenizers!=0.11.3,<0.14,>=0.11.1 in c:\\users\\tdcom\\appdata\\roaming\\python\\python310\\site-packages (from transformers<5.0.0,>=4.6.0->sentence-transformers<3.0,>=2.0->classy_classification) (0.13.1)\n",
      "Requirement already satisfied: click<9.0.0,>=7.1.1 in c:\\users\\tdcom\\appdata\\roaming\\python\\python310\\site-packages (from typer<0.8.0,>=0.3.0->spacy[transformers]<4.0,>=3.0->classy_classification) (8.1.3)\n",
      "Requirement already satisfied: MarkupSafe>=2.0 in c:\\users\\tdcom\\appdata\\roaming\\python\\python310\\site-packages (from jinja2->spacy[transformers]<4.0,>=3.0->classy_classification) (2.1.2)\n",
      "Requirement already satisfied: pillow!=8.3.*,>=5.3.0 in c:\\users\\tdcom\\appdata\\roaming\\python\\python310\\site-packages (from torchvision->sentence-transformers<3.0,>=2.0->classy_classification) (9.1.1)\n",
      "Installing collected packages: sentencepiece, threadpoolctl, spacy-alignments, joblib, scikit-learn, nltk, huggingface-hub, sentence-transformers, spacy-transformers, classy_classification\n",
      "  Running setup.py install for sentence-transformers: started\n",
      "  Running setup.py install for sentence-transformers: finished with status 'done'\n",
      "Successfully installed classy_classification-0.6.2 huggingface-hub-0.13.3 joblib-1.2.0 nltk-3.8.1 scikit-learn-1.2.2 sentence-transformers-2.2.2 sentencepiece-0.1.97 spacy-alignments-0.9.0 spacy-transformers-1.2.2 threadpoolctl-3.1.0\n"
     ]
    },
    {
     "name": "stderr",
     "output_type": "stream",
     "text": [
      "  DEPRECATION: sentence-transformers is being installed using the legacy 'setup.py install' method, because it does not have a 'pyproject.toml' and the 'wheel' package is not installed. pip 23.1 will enforce this behaviour change. A possible replacement is to enable the '--use-pep517' option. Discussion can be found at https://github.com/pypa/pip/issues/8559\n"
     ]
    }
   ],
   "source": [
    "!pip install classy_classification"
   ]
  },
  {
   "cell_type": "code",
   "execution_count": 3,
   "metadata": {},
   "outputs": [
    {
     "name": "stdout",
     "output_type": "stream",
     "text": [
      "Defaulting to user installation because normal site-packages is not writeable\n",
      "Collecting en-core-web-md==3.5.0\n",
      "  Downloading https://github.com/explosion/spacy-models/releases/download/en_core_web_md-3.5.0/en_core_web_md-3.5.0-py3-none-any.whl (42.8 MB)\n",
      "     ---------------------------------------- 0.0/42.8 MB ? eta -:--:--\n",
      "     ---------------------------------------- 0.3/42.8 MB 7.9 MB/s eta 0:00:06\n",
      "      --------------------------------------- 1.1/42.8 MB 13.4 MB/s eta 0:00:04\n",
      "     -- ------------------------------------- 2.8/42.8 MB 22.6 MB/s eta 0:00:02\n",
      "     ---- ----------------------------------- 4.3/42.8 MB 24.9 MB/s eta 0:00:02\n",
      "     ----- ---------------------------------- 5.9/42.8 MB 27.1 MB/s eta 0:00:02\n",
      "     ------- -------------------------------- 7.6/42.8 MB 28.6 MB/s eta 0:00:02\n",
      "     -------- ------------------------------- 9.6/42.8 MB 30.6 MB/s eta 0:00:02\n",
      "     ---------- ---------------------------- 11.2/42.8 MB 36.4 MB/s eta 0:00:01\n",
      "     ----------- --------------------------- 13.1/42.8 MB 36.4 MB/s eta 0:00:01\n",
      "     ------------- ------------------------- 14.9/42.8 MB 38.6 MB/s eta 0:00:01\n",
      "     --------------- ----------------------- 16.6/42.8 MB 38.5 MB/s eta 0:00:01\n",
      "     ---------------- ---------------------- 18.5/42.8 MB 38.5 MB/s eta 0:00:01\n",
      "     ------------------ -------------------- 20.4/42.8 MB 38.5 MB/s eta 0:00:01\n",
      "     -------------------- ------------------ 22.3/42.8 MB 40.9 MB/s eta 0:00:01\n",
      "     --------------------- ----------------- 24.0/42.8 MB 38.5 MB/s eta 0:00:01\n",
      "     ----------------------- --------------- 25.9/42.8 MB 40.9 MB/s eta 0:00:01\n",
      "     ------------------------ -------------- 27.0/42.8 MB 40.9 MB/s eta 0:00:01\n",
      "     ------------------------- ------------- 27.6/42.8 MB 32.8 MB/s eta 0:00:01\n",
      "     -------------------------- ------------ 29.0/42.8 MB 32.8 MB/s eta 0:00:01\n",
      "     ---------------------------- ---------- 30.9/42.8 MB 32.7 MB/s eta 0:00:01\n",
      "     ----------------------------- --------- 32.8/42.8 MB 32.7 MB/s eta 0:00:01\n",
      "     ------------------------------- ------- 34.7/42.8 MB 32.7 MB/s eta 0:00:01\n",
      "     --------------------------------- ----- 36.7/42.8 MB 32.7 MB/s eta 0:00:01\n",
      "     ----------------------------------- --- 38.6/42.8 MB 40.9 MB/s eta 0:00:01\n",
      "     ------------------------------------ -- 40.5/42.8 MB 40.9 MB/s eta 0:00:01\n",
      "     --------------------------------------  42.5/42.8 MB 40.9 MB/s eta 0:00:01\n",
      "     --------------------------------------  42.8/42.8 MB 40.9 MB/s eta 0:00:01\n",
      "     --------------------------------------  42.8/42.8 MB 40.9 MB/s eta 0:00:01\n",
      "     --------------------------------------- 42.8/42.8 MB 29.7 MB/s eta 0:00:00\n",
      "Requirement already satisfied: spacy<3.6.0,>=3.5.0 in c:\\users\\tdcom\\appdata\\roaming\\python\\python310\\site-packages (from en-core-web-md==3.5.0) (3.5.1)\n",
      "Requirement already satisfied: pathy>=0.10.0 in c:\\users\\tdcom\\appdata\\roaming\\python\\python310\\site-packages (from spacy<3.6.0,>=3.5.0->en-core-web-md==3.5.0) (0.10.1)\n",
      "Requirement already satisfied: langcodes<4.0.0,>=3.2.0 in c:\\users\\tdcom\\appdata\\roaming\\python\\python310\\site-packages (from spacy<3.6.0,>=3.5.0->en-core-web-md==3.5.0) (3.3.0)\n",
      "Requirement already satisfied: pydantic!=1.8,!=1.8.1,<1.11.0,>=1.7.4 in c:\\users\\tdcom\\appdata\\roaming\\python\\python310\\site-packages (from spacy<3.6.0,>=3.5.0->en-core-web-md==3.5.0) (1.10.7)\n",
      "Requirement already satisfied: preshed<3.1.0,>=3.0.2 in c:\\users\\tdcom\\appdata\\roaming\\python\\python310\\site-packages (from spacy<3.6.0,>=3.5.0->en-core-web-md==3.5.0) (3.0.8)\n",
      "Requirement already satisfied: wasabi<1.2.0,>=0.9.1 in c:\\users\\tdcom\\appdata\\roaming\\python\\python310\\site-packages (from spacy<3.6.0,>=3.5.0->en-core-web-md==3.5.0) (1.1.1)\n",
      "Requirement already satisfied: numpy>=1.15.0 in c:\\users\\tdcom\\appdata\\roaming\\python\\python310\\site-packages (from spacy<3.6.0,>=3.5.0->en-core-web-md==3.5.0) (1.23.4)\n",
      "Requirement already satisfied: thinc<8.2.0,>=8.1.8 in c:\\users\\tdcom\\appdata\\roaming\\python\\python310\\site-packages (from spacy<3.6.0,>=3.5.0->en-core-web-md==3.5.0) (8.1.9)\n",
      "Requirement already satisfied: typer<0.8.0,>=0.3.0 in c:\\users\\tdcom\\appdata\\roaming\\python\\python310\\site-packages (from spacy<3.6.0,>=3.5.0->en-core-web-md==3.5.0) (0.7.0)\n",
      "Requirement already satisfied: smart-open<7.0.0,>=5.2.1 in c:\\users\\tdcom\\appdata\\roaming\\python\\python310\\site-packages (from spacy<3.6.0,>=3.5.0->en-core-web-md==3.5.0) (6.3.0)\n",
      "Requirement already satisfied: tqdm<5.0.0,>=4.38.0 in c:\\users\\tdcom\\appdata\\roaming\\python\\python310\\site-packages (from spacy<3.6.0,>=3.5.0->en-core-web-md==3.5.0) (4.64.1)\n",
      "Requirement already satisfied: catalogue<2.1.0,>=2.0.6 in c:\\users\\tdcom\\appdata\\roaming\\python\\python310\\site-packages (from spacy<3.6.0,>=3.5.0->en-core-web-md==3.5.0) (2.0.8)\n",
      "Requirement already satisfied: spacy-legacy<3.1.0,>=3.0.11 in c:\\users\\tdcom\\appdata\\roaming\\python\\python310\\site-packages (from spacy<3.6.0,>=3.5.0->en-core-web-md==3.5.0) (3.0.12)\n",
      "Requirement already satisfied: setuptools in c:\\program files\\python310\\lib\\site-packages (from spacy<3.6.0,>=3.5.0->en-core-web-md==3.5.0) (58.1.0)\n",
      "Requirement already satisfied: packaging>=20.0 in c:\\users\\tdcom\\appdata\\roaming\\python\\python310\\site-packages (from spacy<3.6.0,>=3.5.0->en-core-web-md==3.5.0) (21.3)\n",
      "Requirement already satisfied: cymem<2.1.0,>=2.0.2 in c:\\users\\tdcom\\appdata\\roaming\\python\\python310\\site-packages (from spacy<3.6.0,>=3.5.0->en-core-web-md==3.5.0) (2.0.7)\n",
      "Requirement already satisfied: murmurhash<1.1.0,>=0.28.0 in c:\\users\\tdcom\\appdata\\roaming\\python\\python310\\site-packages (from spacy<3.6.0,>=3.5.0->en-core-web-md==3.5.0) (1.0.9)\n",
      "Requirement already satisfied: srsly<3.0.0,>=2.4.3 in c:\\users\\tdcom\\appdata\\roaming\\python\\python310\\site-packages (from spacy<3.6.0,>=3.5.0->en-core-web-md==3.5.0) (2.4.6)\n",
      "Requirement already satisfied: spacy-loggers<2.0.0,>=1.0.0 in c:\\users\\tdcom\\appdata\\roaming\\python\\python310\\site-packages (from spacy<3.6.0,>=3.5.0->en-core-web-md==3.5.0) (1.0.4)\n",
      "Requirement already satisfied: requests<3.0.0,>=2.13.0 in c:\\users\\tdcom\\appdata\\roaming\\python\\python310\\site-packages (from spacy<3.6.0,>=3.5.0->en-core-web-md==3.5.0) (2.28.1)\n",
      "Requirement already satisfied: jinja2 in c:\\users\\tdcom\\appdata\\roaming\\python\\python310\\site-packages (from spacy<3.6.0,>=3.5.0->en-core-web-md==3.5.0) (3.1.2)\n",
      "Requirement already satisfied: pyparsing!=3.0.5,>=2.0.2 in c:\\users\\tdcom\\appdata\\roaming\\python\\python310\\site-packages (from packaging>=20.0->spacy<3.6.0,>=3.5.0->en-core-web-md==3.5.0) (3.0.9)\n",
      "Requirement already satisfied: typing-extensions>=4.2.0 in c:\\users\\tdcom\\appdata\\roaming\\python\\python310\\site-packages (from pydantic!=1.8,!=1.8.1,<1.11.0,>=1.7.4->spacy<3.6.0,>=3.5.0->en-core-web-md==3.5.0) (4.4.0)\n",
      "Requirement already satisfied: idna<4,>=2.5 in c:\\users\\tdcom\\appdata\\roaming\\python\\python310\\site-packages (from requests<3.0.0,>=2.13.0->spacy<3.6.0,>=3.5.0->en-core-web-md==3.5.0) (3.4)\n",
      "Requirement already satisfied: urllib3<1.27,>=1.21.1 in c:\\users\\tdcom\\appdata\\roaming\\python\\python310\\site-packages (from requests<3.0.0,>=2.13.0->spacy<3.6.0,>=3.5.0->en-core-web-md==3.5.0) (1.26.12)\n",
      "Requirement already satisfied: charset-normalizer<3,>=2 in c:\\users\\tdcom\\appdata\\roaming\\python\\python310\\site-packages (from requests<3.0.0,>=2.13.0->spacy<3.6.0,>=3.5.0->en-core-web-md==3.5.0) (2.1.1)\n",
      "Requirement already satisfied: certifi>=2017.4.17 in c:\\users\\tdcom\\appdata\\roaming\\python\\python310\\site-packages (from requests<3.0.0,>=2.13.0->spacy<3.6.0,>=3.5.0->en-core-web-md==3.5.0) (2022.9.24)\n",
      "Requirement already satisfied: confection<1.0.0,>=0.0.1 in c:\\users\\tdcom\\appdata\\roaming\\python\\python310\\site-packages (from thinc<8.2.0,>=8.1.8->spacy<3.6.0,>=3.5.0->en-core-web-md==3.5.0) (0.0.4)\n",
      "Requirement already satisfied: blis<0.8.0,>=0.7.8 in c:\\users\\tdcom\\appdata\\roaming\\python\\python310\\site-packages (from thinc<8.2.0,>=8.1.8->spacy<3.6.0,>=3.5.0->en-core-web-md==3.5.0) (0.7.9)\n",
      "Requirement already satisfied: colorama in c:\\users\\tdcom\\appdata\\roaming\\python\\python310\\site-packages (from tqdm<5.0.0,>=4.38.0->spacy<3.6.0,>=3.5.0->en-core-web-md==3.5.0) (0.4.6)\n",
      "Requirement already satisfied: click<9.0.0,>=7.1.1 in c:\\users\\tdcom\\appdata\\roaming\\python\\python310\\site-packages (from typer<0.8.0,>=0.3.0->spacy<3.6.0,>=3.5.0->en-core-web-md==3.5.0) (8.1.3)\n",
      "Requirement already satisfied: MarkupSafe>=2.0 in c:\\users\\tdcom\\appdata\\roaming\\python\\python310\\site-packages (from jinja2->spacy<3.6.0,>=3.5.0->en-core-web-md==3.5.0) (2.1.2)\n",
      "Installing collected packages: en-core-web-md\n",
      "Successfully installed en-core-web-md-3.5.0\n",
      "\u001b[38;5;2m✔ Download and installation successful\u001b[0m\n",
      "You can now load the package via spacy.load('en_core_web_md')\n"
     ]
    }
   ],
   "source": [
    "!python -m spacy download en_core_web_md"
   ]
  },
  {
   "cell_type": "code",
   "execution_count": 8,
   "metadata": {},
   "outputs": [],
   "source": [
    "import spacy\n",
    "import classy_classification\n",
    "import json"
   ]
  },
  {
   "cell_type": "code",
   "execution_count": 15,
   "metadata": {},
   "outputs": [
    {
     "name": "stdout",
     "output_type": "stream",
     "text": [
      "{'Pop punk': 0.00031674251665805776, 'Post-hardcore': 0.000163913915623862, 'Adult album alternative': 0.0004251909273641482, 'Pop music': 0.0005600339902188618, 'New wave music': 0.0005418241132679313, 'Synthpop': 0.0009863151078698283, 'Dark wave': 0.004430955870933785, 'Indie pop': 0.0005133138075632751, 'Alternative metal': 0.0028702949082040864, 'Alternative rock': 0.00019097784809433716, 'Industrial rock': 0.0001622324371826689, 'Hard rock': 0.00020249306560665543, 'Disco': 0.0008129994107992644, 'Hip hop music': 0.0006344813414241085, 'Ska punk': 0.0036443981433189865, 'Dance-pop': 0.0029149202231063894, 'Pop rock': 0.005185409058063249, 'PBR&B': 0.03658275680030554, 'Neo soul': 0.00032528049907249335, 'Neo-psychedelia': 0.001062739106084703, 'Alternative dance': 0.00031810255314393973, 'Electronica': 0.00086663699616285, 'Worldbeat': 0.00045258429297640975, 'Hip hop soul': 0.0007631060667920534, 'Contemporary R&B': 0.011872005585722767, 'New jack swing': 0.0002766337733821534, 'Reggae fusion': 0.00023343433282564503, 'Rhythm and blues': 0.0003686626251936297, 'Downtempo': 0.00053692274920426, 'Soul music': 0.00018047756316658223, 'Jazz-funk': 0.00027618122213873516, 'Funk': 0.000293970858642424, 'Electro (music)': 0.00018119979117393995, 'Electronic dance music': 0.0001743303507839314, 'Pop-rap': 0.00018521408292801437, 'Teen pop': 0.00017282816602679757, 'Post-grunge': 0.00017978083235074542, 'Country music': 0.00018585911829196777, 'Christmas music': 0.00012353687613405757, 'Blues': 0.004909152360256834, 'Rock music': 0.00018520662735020807, 'Country pop': 0.00031840710233008445, 'Soft rock': 0.0007419455609252711, 'Gospel music': 0.0001859839292242648, 'Folk rock': 0.0004873785834809862, 'Roots rock': 0.0001912944047488087, 'Reggae': 0.00018498040853018395, 'Gospel blues': 0.0007323826459461072, 'Traditional pop music': 0.0007099566388659866, 'Europop': 0.00014703100742138728, 'Schlager music': 0.003452843268404642, 'Glam rock': 0.0012814613164993105, 'Country rock': 0.006702308420474829, 'Dansband': 0.013484492099738227, 'Rock and roll': 0.00017794061956941115, 'Euro disco': 0.00047858010012022005, 'Baroque pop': 0.0028312908473161432, 'Dance music': 0.00020474135302496387, 'Soundtrack': 0.00024324704850017313, 'Power metal': 0.0002980805720973497, 'Acoustic music': 0.0016447555395083262, 'Art rock': 0.00024494009803731516, 'Folk music': 0.00016592680070169743, 'Electronic music': 0.0003100232910928461, 'Jazz': 0.000554736212609599, 'Sophisti-pop': 0.0001806540962452147, 'Blue-eyed soul': 0.000255195397438998, 'Speed metal': 0.0030645550281089514, 'Heavy metal music': 0.004965650684708885, 'Eurodance': 0.00025356937730322337, 'Techno': 0.0015618445365005332, 'Gangsta rap': 0.00018178206358906445, 'Easy listening': 0.00016566318582129512, 'Electropop': 0.00035527723855741913, 'Popmusik': 0.0004597281254903434, 'Blues rock': 0.0003416301499619061, 'Progressive rock': 0.00031479907831664884, 'Funk rock': 0.001372809074291421, 'Glam metal': 0.00026215253439917257, 'Rap rock': 0.0016967898235282052, 'Bluegrass music': 0.0003701003189703097, 'Garage rock': 0.0001062142303927723, 'Southern soul': 0.0004194255915146532, 'Punk rock': 0.00037464342022516914, 'Electronic rock': 0.00018154841250170474, 'Emo': 0.0001885868835692298, 'Progressive house': 0.0001778010787387848, 'Hip house': 0.00017156855541962247, 'Electro house': 0.00032853435072981266, 'Latin hip hop': 0.00023740709034595711, 'Comedy hip hop': 0.000332336324280075, 'Folk punk': 0.00034735359966442446, 'Breakbeat hardcore': 0.000844202181894674, 'Grime music': 0.0005831567353361971, 'Breakbeat': 0.00031723158591564707, 'Bossa nova': 0.0010686762035246444, 'Contemporary folk music': 0.0018061218770101294, 'Post-punk': 0.0001848030988045333, 'Psychedelic pop': 0.00032771897715207736, 'Indie rock': 0.000811862729873826, 'Popular music': 0.0007744830714824083, 'J-pop': 0.0015866393309097097, 'Political hip hop': 0.0017838357997269922, 'Jazz fusion': 0.0008277741601752578, 'Trip hop': 0.0009118489913444703, 'Acid jazz': 0.0014402718825957856, 'Chanson française': 0.013786641694792373, 'Jimmy Buffett': 0.0002683798980897403, 'Psychedelic music': 0.00016973529701495035, 'Rockabilly': 0.00019976017974103661, 'Country blues': 0.0017860963640797293, 'Nu-disco': 0.001340264663204933, 'Chanson': 0.052383732308730155, 'Dubstep': 0.007127446666842084, 'Psychedelic rock': 0.00048712518054855905, 'Stoner rock': 0.005498984129286158, 'Electroclash': 0.0003009477011904885, 'Comedy rock': 0.00027984863498308794, 'Industrial metal': 0.00021369483816323752, 'Grunge': 0.0004607346453576615, 'Doom metal': 0.00018465485899438314, 'Sludge metal': 0.0001868743423196549, 'Alternative hip hop': 0.0007202764897351174, 'Classical music': 0.0016751107202437343, 'Quiet storm': 0.00017740160093631353, 'Old-time music': 0.006374446366475941, 'Vocal jazz': 0.010173805383511314, 'Happy hardcore': 0.0033521812896373064, 'Dream pop': 0.0005123079243819943, 'Ambient music': 0.0001731601753278937, 'Ska': 0.00018489657944667894, 'Metalcore': 0.0003221037556100174, 'Emo pop': 0.0006538898607243865, 'Power pop': 0.00028336684546401684, 'Doo-wop': 0.00018016082030690623, 'Novelty song': 0.00018673605846417763, 'Parody music': 0.0009371426267968916, 'House music': 0.00029112234134549993, 'Indie folk': 0.00019338245208423306, 'Jangle pop': 0.0008837206976910552, 'Dance-rock': 0.00724047283760876, 'Hi-NRG': 0.00018848296276447477, 'Bubblegum pop': 0.0001392368154125211, 'Contemporary Christian music': 0.0011566429781100392, 'Vocal music': 0.0006835978770408889, 'Operatic pop': 0.0013904622132742115, 'Crossover (music)': 0.0036110265159349686, 'Raga rock': 0.00018271277624009038, 'Funktronica': 0.00018494653646333042, 'Baroque music': 0.003488493779759738, 'Space rock': 0.0005324049860544175, 'Symphonic rock': 0.0015574071013421866, 'Moombahton': 0.00016695077918643786, 'Memphis soul': 0.0001743005056886599, 'Adult contemporary music': 0.0005234947801776036, 'Jazz standard': 0.000844018632584954, 'Italo disco': 0.00039527937348560524, 'Trance music': 0.00029370981675674613, 'New-age music': 0.0016918644511631775, 'Gospel': 0.00040944453188175426, 'Thrash metal': 0.005226332965388316, 'Rap metal': 0.00017112850412259574, 'Sirtaki': 0.00025158502937828726, 'Laïko': 0.00025139722739528657, 'Bhangragga': 0.00018320555524096595, 'Dancehall': 0.0012293761970125902, 'Nu metal': 0.00017136088661531587, 'Cello rock': 0.0034684227317329326, 'Groove metal': 0.0034557233114756933, 'Gothic rock': 0.009227526183840564, 'Neue Deutsche Härte': 0.0059431850951084265, 'Big beat': 0.0002375656839568614, 'Post-punk revival': 0.00772872497565561, 'Nashville sound': 0.00040332045926799726, 'Surf music': 0.0038776913192015115, 'Palm Desert Scene': 0.0003319112020678966, 'Southern rock': 0.0017901759951852397, 'World music': 0.00018723336033308523, 'Jam band': 0.0027284139937763393, 'Proto-punk': 0.0017723993955736062, 'Christian music': 0.0001594697869584605, 'Soul blues': 0.0006491681514032235, 'Uplifting trance': 0.0001750383788799115, 'Vocal trance': 0.002040230154909667, 'Art punk': 0.00017480483501493488, 'Beat music': 0.00017078990856722706, 'Avant-garde music': 0.00017908853070516746, 'Minimal music': 0.00018492870196121564, 'Post-disco': 0.00017980025112828476, 'Folktronica': 0.00023989103671462193, 'Britpop': 0.00018341789484582055, 'British Invasion': 0.0001702089254665272, 'Rocksteady': 0.0005798337048403301, 'Canadian hip hop': 0.0002097595600958122, 'Northern soul': 0.00790118462313564, 'Minimal wave': 0.0007881693481679934, 'Industrial music': 0.0004696565312225319, 'Christian rock': 0.021425790409433716, 'Funk metal': 0.00018418321447518464, 'Latin pop': 0.0015127649162277627, 'Bachata (music)': 0.00016765508010797365, 'Salsa music': 0.00018156100603846075, 'Reggaeton': 0.002002873708003735, 'Tropical music': 0.00031132785264853746, 'Bolero': 0.00017867234414443696, 'Hip hop': 0.0001843292146335612, 'Neo-Medieval music': 0.00726293473394044, 'Progressive metal': 0.0004014107882698627, 'Folk metal': 0.0008595276406615218, 'K-pop': 0.0028520595303292047, 'California Sound': 0.0004238431054540899, 'African-American music': 0.00018445581655627242, 'Jump blues': 0.0002510162783271888, 'East Coast hip hop': 0.00017988440332675272, 'Electronicore': 0.0006245615076666757, 'Hardcore punk': 0.00015945927152294297, 'Horror punk': 0.00018896559289680493, 'Skate punk': 0.0008182685444950315, 'Melodic hardcore': 0.0001900548175628122, 'Post-Britpop': 0.00018301148266672995, 'Music of the Bahamas': 0.0017396426854468542, 'Calypso music': 0.009783586708556802, 'Soca music': 0.00018606754049030577, 'Ragga': 0.00018638319393319837, 'Junkanoo': 0.008786398457860629, 'Smooth jazz': 0.0011050008931053445, 'Sentimental ballad': 0.003319410841582932, 'Rock opera': 0.00040001245347771387, 'Psychedelic folk': 0.00036695771321921796, 'Lullaby': 0.00032386129165004797, 'Instrumental': 0.0005222984536811288, 'Musical theatre': 0.0012069824001140052, 'Celtic music': 0.0007615627564719315, 'Viking metal': 0.0011184436984376122, 'Eurobeat': 0.0022353211995402356, 'Latin music (genre)': 0.0001771261769564131, 'Glam punk': 0.0006579680100706496, 'Noise pop': 0.0021004001869276896, 'Garage punk': 0.00022729779263197088, 'Rapcore': 0.00028980948629067383, 'Old-school hip hop': 0.00018345793332152465, 'Noise rock': 0.014020998721023257, 'Dub (music)': 0.00021599341848791488, 'Swing music': 0.00023688379315423683, 'Big band': 0.0004113402269574715, 'Country rap': 0.002626825574723304, 'Snap': 0.0001588562395484807, 'Country folk': 0.002243359793840198, 'Orchestra': 0.004656356825902506, 'Swamp pop': 0.00018355849863630847, 'West Coast hip hop': 0.002669062783202451, 'G-funk': 0.00018752220313324124, 'Independent music': 0.00018431867509051663, 'Rock alternatif': 0.00029224416807191635, 'Dance': 0.004347706435729129, 'Pop (musique)': 0.001125027408803463, 'Bubblegum dance': 0.0009746779947181098, 'Chicago soul': 0.00017934210642565424, 'Poetry': 0.0003338069236263056, 'Spoken word': 0.0006534783373114032, 'Bounce music': 0.000778803026279607, 'Trap music': 0.0006333327376927141, 'Celtic rock': 0.00016162419705185974, 'Arena rock': 0.00020269000400715452, 'Kayōkyoku': 0.003771068085834297, 'Indian classical music': 0.00021703039801588983, 'Music hall': 0.0002282071778585315, 'Twelve-bar blues': 0.0009521952019880687, 'Bro-country': 0.00017663882675768695, 'Dance-punk': 0.012294385759830927, 'Boogie rock': 0.009963871656983389, 'Experimental rock': 0.035684200296251835, 'Philadelphia soul': 0.00018304656401477393, 'Urban contemporary': 0.00017754660260316718, 'Roots reggae': 0.0008252583160286091, 'Acid rock': 0.0013181290074137735, 'Experimental music': 0.00269998484185314, 'Drum and bass': 0.00016148416723345204, 'Progressive folk': 0.0009803458568642385, 'Chill-out music': 0.0003679717101849269, 'Glitch (music)': 0.00044482779671985926, 'Lowercase (music)': 0.00036650851851059403, 'Tribal house': 0.00024304417058274448, 'Electropunk': 0.00042646216261764164, 'Industrial dance': 0.0007036359427173751, 'Intelligent dance music': 0.0021673146876904133, 'Électronique': 0.002094345811520974, 'Rock': 0.0029468695317559353, 'Melodic metalcore': 0.0003302705055579462, 'Screamo': 0.00022638163885115766, 'Comedy music': 0.001283289246879261, 'Piedmont blues': 0.00018326671351139956, 'Rock and Roll Music': 0.0009285995873897702, 'Gabber': 0.00017579412028813877, 'Chicago blues': 0.0008861434044937035, 'Sunshine pop': 0.0004928853026513331, 'Talking blues': 0.00019894509639637083, 'Americana (music)': 0.00023214098427798175, 'Folk': 0.00017688220639595502, 'Western swing': 0.0011472909906477878, 'Afro-Cuban jazz': 0.0001781034923095806, 'Wagnerian rock': 0.00034361828130934796, 'Instrumental rock': 0.00019015532148436616, 'Barbershop music': 0.00017598113186113835, 'Opera': 0.0007574096272836612, 'Progressive pop': 0.00031366657924203746, 'Bhangra (music)': 0.0001587775568998545, 'Trance': 0.00021588930484625063, 'Tech house': 0.00014573280114995406, 'Reggae rock': 0.00029896604811031696, 'Minneapolis sound': 0.00017806189512477842, 'Boogie (genre)': 0.004142940686811129, 'Heartland rock': 0.00039389076500647596, 'Rock en español': 0.00019757210134341353, 'Music of Lubbock, Texas': 0.0002089361959764912, 'Mod revival': 0.0009613800662663323, 'German hip hop': 0.00022394380268342214, 'Punk blues': 0.0001833666153767418, 'Krautrock': 0.00042298501679381896, 'Death metal': 0.00021141888278581632, 'Deathcore': 0.0006552125528533138, 'Tango music': 0.000217211914573776, 'Christian alternative rock': 0.0001865119055510818, 'Shoegazing': 0.0005293976163358697, 'Freestyle music': 0.0003350745762278443, 'Chicano rock': 0.00022351183445660518, 'Bebop': 0.0006193686007225637, 'Crunk': 0.00017695999994260406, 'Honky-tonk': 0.00031994203474729167, 'Pop-folk': 0.00020332562048830478, 'Rapping': 0.0001829981324304118, 'Stoner film': 0.00017273699908584573, 'Psychedelic soul': 0.00017945035862150123, 'Balearic beat': 0.0001811073516728263, 'Drill (music genre)': 0.00013957566269248383, 'Melodic death metal': 0.00018638015226474372, 'Dirty rap': 0.0001840370606969916, 'British hip hop': 0.00018265113116867316, 'Beatboxing': 0.000517557894652826, 'British rhythm and blues': 0.0002562555763504481, 'Extreme metal': 0.000388125320161331, 'Music of Hawaii': 0.00018993395570031344, 'Western music (North America)': 0.00018031754865442968, 'Contemporary worship music': 0.0003066344707585088, 'Show tune': 0.00024512498270205715, 'Boogie-woogie': 0.00021736486769213359, 'Skiffle': 0.0003129009949596371, 'Tejano music': 0.0004834542304685844, 'Deep house': 0.00017581610983152243, 'Beach music': 0.0001849165312674182, 'Pub rock (Australia)': 0.00018771173404983583, 'Tropical house': 0.0005354407316259232, 'Horrorcore': 0.00018272393220703068, 'Alternative country': 0.00017550544162889194, 'Shock rock': 0.00018224453254023898, 'Hip-Hop': 0.00025188246714551925, 'Chiptune': 0.0001817791553981849, 'Futurepop': 0.000504121088602833, 'Acid house': 0.0017611195857475843, 'Hardcore hip hop': 0.0001889772868209115, 'Merengue music': 0.0001875405654670053, 'Zumba': 0.0002733416070158635, 'Mambo (music)': 0.0017896396397910023, 'Disco house': 0.00017372204464435347, 'Electro rock': 0.00018447440814322035, 'French house': 0.00024935020895779786, 'House (musique)': 0.0002896280663191624, 'Électro-rock': 0.00017937519973821274, 'Electro': 0.00018702644363061184, 'Electro-rock': 0.0007736256336873204, 'Reggaestep': 0.0010479940778402466, 'College rock': 0.00017036085322598795, 'Axé (music)': 0.00024056033847885753, 'Southern hip hop': 0.022483550888810443, 'Mod (subculture)': 0.000754643444382767, 'Musique électronique': 0.00019056023393813703, 'Dance pop': 0.0018728232880184743, 'Cajun music': 0.0007313127464679328, 'Christian hip hop': 0.00020773913879877285, 'Ambient house': 0.0012114199217765618, 'Music of Latin America': 0.00018180151186964277, 'Singer-songwriter': 0.0008544815559667952, 'Post-metal': 0.0026357878978981735, 'Symphonic metal': 0.0001795606237961677, 'Electronic body music': 0.0002477037474456469, 'Wonky pop': 0.00022478400603768653, 'Pub rock (United Kingdom)': 0.0002398948214617493, 'Future garage': 0.00025418291245341717, 'UK garage': 0.0004610941548676957, '2-step garage': 0.0001861297650108736, 'Bassline (music genre)': 0.0002520558541134619, 'Liquid funk': 0.0005671198450408466, 'Microhouse': 0.0008321550306836502, 'Hipster hop': 0.0005226111064945197, 'American folk music': 0.0001783728843782854, 'Avant-garde metal': 0.00021630701493689024, 'Kuduro': 0.0006622564623951639, 'Neue Deutsche Welle': 0.0003651576214967965, 'Folk music of Ireland': 0.0001785644260302217, 'Celtic punk': 0.00031509623297067255, 'List of trance genres': 0.0004159055651267506, 'Italo house': 0.0004474106200401841, 'Italo dance': 0.0001306450792198105, 'Neofolk': 0.000927185650330703, 'Electric blues': 0.00018155225136223745, 'Protest song': 0.0001815522466420703, 'Ballad': 0.05988949455847087, 'Contemporary pop': 0.00017955980585256402, 'Flamenco': 0.009061819310473536, 'Motown': 0.0403954838688047, 'Classic rock': 0.0002031606682858464, 'Tulsa Sound': 0.0017001978204950062, 'Post-rock': 0.00011683077868107275, 'Gothic metal': 0.0020902687185936574, 'Funk carioca': 0.00048454485546580074, 'Nu-funk': 0.0014966457321917033, 'Highlife': 0.008519931128156891, 'Afrobeat': 0.0029739007479014914, 'Folk jazz': 0.0003078842593741758, 'Stride (music)': 0.006552288139380458, 'Dixieland': 0.006511133640466446, 'Electro hop music': 0.0017264540300093005, 'Electro swing': 0.0005379236076769864, 'Truck-driving country': 0.014247929151702822, 'Drone music': 0.0005548266714221146, 'Dark ambient': 0.0003842726420129213, 'Soul': 0.0012195279919006109, 'Math rock': 0.0017452181629414743, 'Music of Ireland': 0.0003617604525831785, 'Liedermacher': 0.007074022068534575, 'Miami bass': 0.00028018112806216716, 'Siren (mythology)': 0.003192636649344162, 'Deep House': 0.0015165122214079816, 'Album-oriented rock': 0.00047292799733316396, 'Flamenco rumba': 0.004108859519657719, 'Gypsy punk': 0.005374132341304517, 'Cabaret': 0.00037817862579728916, 'Lo-fi music': 0.00036325044637151486, 'Low fidelity': 0.0003465152585681971, 'Música sertaneja': 0.00048183188623106813, 'Garage music (US garage)': 0.001172338570352216, 'Crossover thrash': 0.005630338608856235, 'Traditional heavy metal': 0.000514877096241503, 'Madchester': 0.00018819870938821987, 'Mento': 0.0011523254507823874, 'Christian punk': 0.00023077973198734709, 'Australian rock': 0.00013214791765862858, 'Snap music': 0.0005862750853145312, 'R&B Contemporain': 0.002169862123019005, 'Latin house': 0.00048690271448286376, 'Hymn': 0.0006447832061030233, 'British rock and roll': 0.0002797154107601762, 'Classic female blues': 0.0012474828689140762, 'Baggy': 0.0015551631765468987, 'Golden age hip hop': 0.001667014323372509, 'Variété française': 0.00018236543645275242, 'Midwest hip hop': 0.0002133954862021007, 'Neo-pop': 0.006428107481080138, 'Swing revival': 0.0002491096295738884, 'Hard bop': 0.0001742577732788676, 'Soundscape': 0.00016694474347123115, 'Delta blues': 0.0024838398959443884, 'Standard (music)': 0.0005360970025353279, 'Samba': 0.00018443418099853902, 'Patriotic song': 0.03042372638714285, 'Music': 0.00016413475687132825, 'Hyphy': 0.0012447851875866166, 'Industrial hip hop': 0.00044711157892361573, 'Musique andine': 0.00016486088296226197, 'Experimental pop': 0.002073705052533649, 'Jazz rap': 0.000338330025065809, 'Soul jazz': 0.00019067660140517292, 'Freak folk': 0.00016793268611049755, 'Urban contemporary gospel': 0.00023909994782918208, 'Traditional black gospel': 0.00017902156492495953, 'Nu jazz': 0.001257678665202069, 'New rave': 0.00027038623380474706, 'Rave music': 0.002550225896919939, 'Pop latino': 0.00047540833782492664, 'Balada': 0.0001662439837197296, 'Pop': 0.00019156245932834074, 'Pop Latino': 0.00018276822123130322, 'Bitpop': 0.0012817683503457068, 'Avant-garde': 0.0015761990872361921, 'Samba rock': 0.0004992869302597455, 'Jersey Shore sound': 0.0005572236193408065, 'Pop musique': 0.0002258396335580401, 'Tex-Mex': 0.0005096600399650818, 'Jive (dance)': 0.0008092096811913788, 'Folk-rock': 0.0001705983630667911, 'Gaana': 0.00018998344722800884, 'Experimental hip hop': 0.0003721951024083831, 'New wave (musique)': 0.00027355538634350626, 'Vaporwave': 0.00016616962938769886, 'Middle Eastern music': 0.028030367243897396, 'Pasodoble': 0.0014640587619070835, 'Rap': 0.0001884547733506347, 'Theatre': 0.0010750270583542382, 'Middle of the road (music)': 0.0004020716484955789, 'Cowpunk': 0.021477796923219463, 'Modern rock': 0.00017996110680525837, 'Christian adult contemporary': 0.00024131606795389687, 'Neo-progressive rock': 0.00024751640334885186, 'Digital hardcore': 0.0020330992314062323, 'Musique soul': 0.0002686451940215502, 'Hill country blues': 0.001142165390696851, 'French touch (musique)': 0.000749192413452971, 'Balearic trance': 0.0003956559981471098, 'Folk baroque': 0.0001826574246695563, 'Progressive bluegrass': 0.00017819986155271324, 'Electro-industrial': 0.0019201603282866827, 'Heavy metal traditionnel': 0.00014265043552341914, 'Rock français': 0.000939664361851764, 'French song': 0.002204068921458024, 'Dark cabaret': 0.0005146531972130149, 'Grindcore': 0.0003167514199515847, 'P-Funk': 0.00018761393611651514, 'Cumbia': 0.0005914345273469371, 'Hot R&B/Hip-Hop Songs': 0.002476526980562359, 'Music of Scotland': 0.023746147490704195, 'Waltz': 0.0001882023921041756, 'Teenage tragedy song': 0.0005328327707390239, 'Topical song': 0.00022784306465154302, 'Feminism': 0.0005178298920779611, 'Mariachi': 0.0012485074234903995, \"Children's music\": 0.0008415751897452838, '2 Tone (music genre)': 0.00017908743319013855, 'Theme music': 0.00043921186901049687, 'Christian metal': 0.00018165524818909324, 'Psychobilly': 0.0004329460135062156, 'Ballade': 0.0002102235135547039, 'East Coast': 0.0005839845884849687, 'Hardcore (electronic dance music genre)': 0.0003014151563052977, 'Piano': 0.00020290337569377328, 'New school hip hop': 0.0002233960368400011, 'Jumpstyle': 0.0025343571791320127, 'Hard trance': 0.00019390268385374878, 'Hardstyle': 0.001398833547783787, 'Mexican cumbia': 0.00019045000332953524, 'Trap': 0.0010126688481613194, 'German rock': 0.00029578840464954755, 'Breakstep': 0.003530147410966788, 'New Orleans rhythm and blues': 0.000466902359379999, 'A cappella': 0.00024269299645095425, 'Funky house': 0.00018624820424566243, 'Crunkcore': 0.00022472503055621256, 'New Orleans blues': 0.00023620057791148578, 'Latin soul': 0.0008665089441701684, 'Mittelalter-Rock': 0.0001902314930930857, 'Folk Metal': 0.0003701041524944157, 'Music of India': 0.00033047826326057186, 'EDM': 0.0001858499872901694, 'T-Pain': 0.00014800798857821196, 'No wave': 0.00016079874156051463, 'Chillwave': 0.0012666846603172782, 'Slow jam': 0.0018988100000070394, 'Garage (musique)': 0.0002808905810679657, 'Circus music': 0.0002983793407119897, 'West Coast jazz': 0.00015826120181769375, 'Latin jazz': 0.0006673225597913461, 'Piano rock': 0.0001711827443882731, 'Musique concrète': 0.0003228705047892907, 'Freakbeat': 0.0002486736022794365, 'Memphis blues': 0.0001715526303434123, 'Film score': 0.0012350984246586704, 'Outlaw country': 0.0020326566005310453, 'Smooth soul': 0.00017760564489166392, 'Soft pop': 0.0001870390023186291, 'Neoclassical metal': 0.00018622679999872463}\n"
     ]
    }
   ],
   "source": [
    "data = {\n",
    "    \"rock\": [\"Is this the real life? Is this just fantasy? Caught in a landside, No escape from reality Open your eyes, Look up to the skies and see, I'm just a poor boy, I need no sympathy, Because I'm easy come, easy go, Little high, little low, Any way the wind blows doesn't really matter to Me, to me Mamaaa, Just killed a man, Put a gun against his head, pulled my trigger, Now he's dead Mamaaa, life had just begun, But now I've gone and thrown it all away Mama, oooh, Didn't mean to make you cry, If I'm not back again this time tomorrow, Carry on, carry on as if nothing really matters Too late, my time has come, Sends shivers down my spine, body's aching all The time Goodbye, everybody, I've got to go, Gotta leave you all behind and face the truth Mama, oooh I don't want to die, I sometimes wish I'd never been born at all. I see a little silhouetto of a man, Scaramouch, Scaramouch, will you do the Fandango! Thunderbolts and lightning, very, very frightening me Galileo, Galileo Galileo, Galileo Galileo, Figaro - magnificoo I'm just a poor boy nobody loves me He's just a poor boy from a poor family, Spare him his life from this monstrosity Easy come, easy go, will you let me go Bismillah! No, we will not let you go (Let him go!) Bismillah! We will not let you go (Let him go!) Bismillah! We will not let you go (Let me go) Will not let you go (Let me go)(Never) Never let you go (Let me go) (Never) let you go (Let me go) Ah No, no, no, no, no, no, no Oh mama mia, mama mia, mama mia, let me go Beelzebub has a devil put aside for me, for me, For meee So you think you can stop me and spit in my eye So you think you can love me and leave me to die Oh, baby, can't do this to me, baby, Just gotta get out, just gotta get right outta here Nothing really matters, Anyone can see, Nothing really matters, Nothing really matters to me Any way the wind blows...\",\n",
    "               \"There's a lady who's sure All that glitters is gold And she's buying a stairway to heaven When she gets there she knows If the stores are all closed With a word she can get what she came for Ooh ooh ooh ooh ooh And she's buying a stairway to heaven There's a sign on the wall But she wants to be sure 'Cause you know, sometimes words have two meanings In a tree by the brook There's a songbird who sings Sometimes all of our thoughts are misgiven Ooh, it makes me wonder Ooh, it makes me wonder There's a feeling I get When I look to the west And my spirit is crying for leaving In my thoughts I have seen Rings of smoke through the trees And the voices of those who stand looking Ooh, it makes me wonder Ooh, it really makes me wonder And it's whispered that soon If we all call the tune Then the piper will lead us to reason And a new day will dawn For those who stand long And the forests will echo with laughter Oh whoa-whoa-whoa, oh-oh If there's a bustle in your hedgerow, don't be alarmed now It's just a spring clean for the May Queen Yes, there are two paths you can go by, but in the long run And there's still time to change the road you're on And it makes me wonder Oh, whoa Your head is humming and it won't go In case you don't know The piper's calling you to join him Dear lady, can you hear the wind blow? And did you know Your stairway lies on the whispering wind? And as we wind on down the road Our shadows taller than our soul There walks a lady we all know Who shines white light and wants to show How everything still turns to gold And if you listen very hard The tune will come to you at last When all are one and one is all, yeah To be a rock and not to roll And she's buying a stairway to heaven\",\n",
    "               \"I'm tired of being what you want me to be Feeling so faithless, lost under the surface Don't know what you're expecting of me Put under the pressure of walking in your shoes Every step that I take is another mistake to you (Caught in the undertow, just caught in the undertow) I've become so numb I can't feel you there Become so tired So much more aware I'm becoming this All I want to do Is be more like me And be less like you Can't you see that you're smothering me Holding too tightly, afraid to lose control? 'Cause everything that you thought I would be Has fallen apart right in front of you Every step that I take is another mistake to you (Caught in the undertow, just caught in the undertow) And every second I waste is more than I can take I've become so numb I can't feel you there Become so tired So much more aware I'm becoming this All I want to do Is be more like me And be less like you And I know I may end up failing too But I know You were just like me with someone disappointed in you I've become so numb I can't feel you there Become so tired So much more aware I'm becoming this All I want to do Is be more like me And be less like you I've become so numb I can't feel you there (I'm tired of being what you want me to be) I've become so numb I can't feel you there (I'm tired of being what you want me to be)\"],\n",
    "    \"pop\": [\"I stay out too late Got nothing in my brain That's what people say That's what people say I go on too many dates But I can't make them stay At least that's what people say That's what people say But I keep cruising Can't stop, won't stop moving It's like I got this music in my mind Saying it's gonna be alright I never miss a beat I'm lightning on my feet And that's what they don't see That's what they don't see Players gonna play, play, play, play, play And the haters gonna hate, hate, hate, hate, hate (haters gonna hate) Baby, I'm just gonna shake, shake, shake, shake, shake I shake it off, I shake it off Heartbreakers gonna break Fakers gonna fake I'm just gonna shake I shake it off, I shake it off I shake it off, I shake it off I, I, I shake it off, I shake it off I, I, I shake it off, shake it off I, I, I shake it off, I shake it off I, I, I shake it off, I shake it off I, I, I shake it off, I shake it off I, I, I, shake it off, I shake it off I, I, I, shake it off, I shake it off\",\n",
    "                \"Baby, can't you see I'm calling? A guy like you should wear a warning It's dangerous, I'm falling There's no escape, I can't wait I need a hit, baby, give me it You're dangerous, I'm loving it Too high, can't come down Losing my head, spinnin' 'round and 'round Do you feel me now? With a taste of your lips, I'm on a ride You're toxic, I'm slippin' under With a taste of a poison paradise I'm addicted to you Don't you know that you're toxic? And I love what you do Don't you know that you're toxic? It's getting late to give you up I took a sip from my devil's cup Slowly, it's taking over me Too high, can't come down It's in the air and it's all around Can you feel me now? With a taste of your lips, I'm on a ride You're toxic, I'm slippin' under With a taste of a poison paradise I'm addicted to you Don't you know that you're toxic? And I love what you do Don't you know that you're toxic? Don't you know that you're toxic? Taste of your lips, I'm on a ride You're toxic, I'm slippin' under With a taste of a poison paradise I'm addicted to you Don't you know that you're toxic? With a taste of your lips, I'm on a ride You're toxic, I'm slippin' under (toxic) With a taste of a poison paradise I'm addicted to you Don't you know that you're toxic? Intoxicate me now, with your lovin' now I think I'm ready now, I think I'm ready now Intoxicate me now, with your lovin' now I think I'm ready now\",\n",
    "                \"There's a fire starting in my heart Reaching a fever pitch, it's bringing me out the dark Finally I can see you crystal clear Go ahead and sell me out and I'll lay your ship bare See how I'll leave with every piece of you Don't underestimate the things that I will do There's a fire starting in my heart Reaching a fever pitch and it's bringing me out the dark The scars of your love remind me of us They keep me thinking that we almost had it all The scars of your love they leave me breathless I can't help feeling We could've had it all (you're gonna wish you) (Never had met me) Rolling in the deep (tears are gonna fall) (Rolling in the deep) You had my heart inside (you're gonna wish you) Of your hands (never had met me) And you played it (tears are gonna fall) To the beat (rolling in the deep) Baby, I have no story to be told But I've heard one on you, now I'm gonna make your head burn Think of me in the depths of your despair Make a home down there, as mine sure won't be shared The scars of your love (never had met me) Remind me of us (tears are gonna fall) They keep me thinking (rolling in the deep) That we almost had it all (you're gonna wish you) The scars of your love (never had met me) They leave me breathless (tears are gonna fall) I can't help feeling (rolling in the deep) We could've had it all (you're gonna wish you) (Never had met me) Rolling in the deep (tears are gonna fall) (Rolling in the deep) You had my heart inside (you're gonna wish you) Of your hands (never had met me) And you played it (tears are gonna fall) To the beat (rolling in the deep) We could've had it all Rolling in the deep You had my heart inside of your hand But you played it with a beating Throw your soul through every open door (whoa) Count your blessings to find what you look for (whoa) Turn my sorrow into treasured gold (whoa) You pay me back in kind and reap just what you've sown We could've had it all (tears are gonna fall, rolling in the deep) We could've had it all (you're gonna wish you never had met me) It all, it all, it all (tears are gonna fall, rolling in the deep) We could've had it all (you're gonna wish you) (Never had met me) Rolling in the deep (tears are gonna fall) (Rolling in the deep) You had my heart inside (you're gonna wish you) Of your hands (never had met me) And you played it (tears are gonna fall) To the beat (rolling in the deep) Could've had it all (you're gonna wish you) (Never had met me) Rolling in the deep (tears are gonna fall) (Rolling in the deep) You had my heart inside (you're gonna wish you) Of your hands (never had met me) But you played it, you played it, you played it You played it to the beat\"],\n",
    "    \"country\": [\"Jolene, Jolene, Jolene, Jolene I'm begging of you please don't take my man Jolene, Jolene, Jolene, Jolene Please don't take him just because you can Your beauty is beyond compare With flaming locks of auburn hair With ivory skin and eyes of emerald green Your smile is like a breath of spring Your voice is soft like summer rain And I cannot compete with you Jolene He talks about you in his sleep And there's nothing I can do to keep From crying when he calls your name Jolene And I can easily understand How you could easily take my man But you don't know what he means to me Jolene Jolene, Jolene, Jolene, Jolene I'm begging of you please don't take my man Jolene, Jolene, Jolene, Jolene Please don't take him just because you can You could have your choice of men But I could never love again He's the only one for me Jolene I had to have this talk with you My happiness depends on you And whatever you decide to do Jolene Jolene, Jolene, Jolene, Jolene I'm begging of you please don't take my man Jolene, Jolene, Jolene, Jolene Please don't take him even though you can Jolene, Jolene\",\n",
    "                \"She put him out Like the burning end of a midnight cigarette She broke his heart He spent his whole life trying to forget We watched him drink his pain away Little at a time But he never could get drunk enough To get her off his mind until the night He put that bottle to his head and pulled the trigger And finally drank away her memory Life is short but this time it was bigger And the strength he had to get up off his knees We found him with his face down in the pillow With a note that said I'll love her till I die And when we buried him beneath the willow The angels sang a whiskey lullaby La la la la la la la La la la la la la la La la la la la la la La la la la la la la The rumors flew But nobody knew how much she blamed herself For years and years She tried to hide the whiskey on her breathe She finally drank her pain away little at a time But she never could get drunk enough to get him of her mind Until the night She put that bottle to her head and pulled the trigger And finally drank away his memory Life is short but this time it was bigger Than the strength she had to get up off her knees We found her with her face down in the pillow Clinging to his picture for dear life We laid her next to him beneath the willow While the Angels sang a whiskey lullaby La la la la la la la La la la la la la la La la la la la la la La la la la la la la La la la la la la la La la la la la la la La la la la la la la La la la la la la la\",\n",
    "                \"Picture perfect memories Scattered all around the floor Reaching for the phone cause I can't fight it anymore And I wonder if I ever cross your mind For me it happens all the time It's a quarter after one I'm all alone and I need you now Said I wouldn't call, but I lost all control And I need you now And I don't know how I can do without I just need you now Another shot of whisky Can't stop looking at the door Wishing you'd come sweeping in the way you did before And I wonder if I ever cross your mind For me it happens all the time It's a quarter after one I'm a little drunk and I need you now Said I wouldn't call, but I lost all control And I need you now And I don't know how I can do without I just need you now Guess I rather hurt than feel nothing at all It's a quarter after one I'm all alone and I need you now And I said I wouldn't call But I'm a little drunk and I need you now And I don't know how I can do without I just need you now I just need you now Oh, baby, I need you now\"]\n",
    "}\n",
    "\n",
    "with open('genre_to_lyrics.json') as user_file:\n",
    "  file_contents = user_file.read()\n",
    "\n",
    "new_data = json.loads(file_contents)\n",
    "\n",
    "nlp = spacy.load(\"en_core_web_md\")\n",
    "nlp.add_pipe(\"text_categorizer\", \n",
    "    config={\n",
    "        \"data\": new_data,\n",
    "        \"model\": \"spacy\"\n",
    "    }\n",
    ")\n",
    "\n",
    "# Taylor Swift's All Too Well -- leans country\n",
    "print(nlp(\"I walked through the door with you The air was cold But something about it felt like home somehow And I, left my scarf there at your sister's house And you've still got it in your drawer even now\")._.cats)"
   ]
  },
  {
   "cell_type": "code",
   "execution_count": 41,
   "metadata": {},
   "outputs": [],
   "source": [
    "import pickle\n",
    "\n",
    "with open(\"nlp.p\", 'wb') as file:\n",
    "    pickle.dump(nlp, file)"
   ]
  },
  {
   "cell_type": "code",
   "execution_count": 58,
   "metadata": {},
   "outputs": [
    {
     "name": "stdout",
     "output_type": "stream",
     "text": [
      "[('Instrumental', 0.021027121194873793), ('Progressive pop', 0.01672311866268742), ('Hill country blues', 0.0158800541875862), ('Standard (music)', 0.010868735609329222), ('Christian adult contemporary', 0.010573431738594747)]\n"
     ]
    }
   ],
   "source": [
    "\n",
    "test_output = nlp(\"fly me to the moon\")._.cats\n",
    "\n",
    "sorted_dict = sorted(test_output.items(), key = lambda x:-x[1])[:5]\n",
    "print(sorted_dict)"
   ]
  },
  {
   "cell_type": "code",
   "execution_count": 53,
   "metadata": {},
   "outputs": [
    {
     "name": "stdout",
     "output_type": "stream",
     "text": [
      "[('Experimental rock', 0.04432895386690484), ('Music of Scotland', 0.04276660088313518), ('Southern hip hop', 0.04209950408253797), ('Patriotic song', 0.04091092457973643), ('Motown', 0.037622476652845245)]\n"
     ]
    }
   ],
   "source": [
    "# Nirana's Smells Like Teen Spirit -- leans rock\n",
    "teenspirit = nlp(\"Load up on guns, bring your friends It's fun to lose and to pretend She's over bored and self assured Oh no, I know a dirty word\")._.cats\n",
    "sorted_dict = sorted(teenspirit.items(), key = lambda x:-x[1])[:5]\n",
    "print(sorted_dict)"
   ]
  },
  {
   "cell_type": "code",
   "execution_count": 52,
   "metadata": {},
   "outputs": [
    {
     "name": "stdout",
     "output_type": "stream",
     "text": [
      "[('Ballad', 0.125000640333891), ('Patriotic song', 0.07037754437691524), ('Chanson', 0.06603491661499168), ('Motown', 0.04125931653270869), ('PBR&B', 0.04072138921678267)]\n"
     ]
    }
   ],
   "source": [
    "# Dua Lipa's Levitating -- leans pop\n",
    "levitate = nlp(\"If you wanna run away with me, I know a galaxy And I can take you for a ride I had a premonition that we fell into a rhythm Where the music don't stop for life Glitter in the sky, glitter in my eyes Shining just the way I like If you're feeling like you need a little bit of company You met me at the perfect time\")._.cats\n",
    "sorted_dict = sorted(levitate.items(), key = lambda x:-x[1])[:5]\n",
    "print(sorted_dict)"
   ]
  }
 ],
 "metadata": {
  "kernelspec": {
   "display_name": "Python 3",
   "language": "python",
   "name": "python3"
  },
  "language_info": {
   "codemirror_mode": {
    "name": "ipython",
    "version": 3
   },
   "file_extension": ".py",
   "mimetype": "text/x-python",
   "name": "python",
   "nbconvert_exporter": "python",
   "pygments_lexer": "ipython3",
   "version": "3.10.5"
  },
  "orig_nbformat": 4
 },
 "nbformat": 4,
 "nbformat_minor": 2
}
